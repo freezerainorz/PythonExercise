{
 "cells": [
  {
   "cell_type": "markdown",
   "metadata": {
    "id": "VQOWe2Q5x6tn"
   },
   "source": [
    "# 用 Pandas 產生樞紐報表 (pivot table)\n",
    "\n",
    "樞紐報表是 Excel 非常强大的功能，可以將大量的資料，依照制定的資料樣式重新分類整合。只要確定了新分類的表格樣式，透過簡單的操作就可以輕鬆產生新的報表。\n",
    "\n",
    "![](https://drive.google.com/uc?export=download&id=1a55oDUBjn1Cs5Xyqzy0FulXP8hjsSYXE)\n",
    "\n",
    "若今天樞紐報表十分複雜，在圖像化界面上就很難快速的透過手動的方式快速的產生樞紐報表。\n",
    "\n",
    "但是今天我們若希望透過程式化的方式來產生樞紐報表，我們其實可以活用 Pandas 的 DataFrame 產生樞紐報表，不但效率快，而且語法十分簡單。"
   ]
  },
  {
   "cell_type": "code",
   "execution_count": null,
   "metadata": {
    "id": "xc-ey8H9x6tv"
   },
   "outputs": [],
   "source": [
    "import xlwings as xw\n",
    "# 請輸入 pivot_table.xlsx 的絕對路徑\n",
    "wb = xw.Book(r\"pivot_table.xlsx\")\n",
    "\n",
    "data_sheet = wb.sheets[\"銷售數據\"]\n",
    "\n",
    "report_sheet = wb.sheets[\"報告\"]"
   ]
  },
  {
   "cell_type": "markdown",
   "metadata": {
    "id": "rYsKaFR5x6uB"
   },
   "source": [
    "## 如何能夠把工作表内的資料放入 DataFrame?\n",
    "\n",
    "若我們今天直接執行 **range(起點:結束點).value**，預設上 **xlwings** 會將資料以二維串列(2d list)的形式將資料回傳給我們\n",
    "\n",
    "但是，若今天我們希望能夠該範圍的資料放入一個 DataFrame 呢？\n",
    "\n",
    "```python\n",
    "data_sheet.range(\"A1:B2\").value\n",
    "\n",
    "# [\n",
    "#    ['訂單號碼', '日期'],\n",
    "#    ['A0001', datetime.datetime(2017, 1, 1, 0, 0)]\n",
    "# ]\n",
    "```"
   ]
  },
  {
   "cell_type": "code",
   "execution_count": null,
   "metadata": {
    "scrolled": true
   },
   "outputs": [],
   "source": [
    "import pandas as pd\n",
    "\n",
    "df = data_sheet.range(\"A1\").options(pd.DataFrame, expand=\"table\").value\n",
    "df"
   ]
  },
  {
   "cell_type": "markdown",
   "metadata": {
    "id": "FeYT9jorx6uP"
   },
   "source": [
    "##  range().options(format, expand=)\n",
    "\n",
    "`range()` 的 `options()` 方法會要求使用者輸入兩個參數： **format** 以及 **expand** \n",
    "\n",
    "```python\n",
    "range(範圍).options(format, expand=\"方向\")\n",
    "```\n",
    "\n",
    "\n",
    "`format` 是你希望 xlwings 將**一個範圍的值以什麽樣的資料結構回傳**\n",
    "\n",
    "`expand` 是讓 xlwings 自動偵測試算表資料的範圍\n",
    "\n",
    "舉例來説，設定 `down` 代表往下搜尋，而設定 `table` 則是將整個試算表，連續的資料一次性的搜出並存入指定的資料結構内。\n",
    "\n",
    "請嘗試執行以下程式碼：\n",
    "\n",
    "```python\n",
    "import numpy as np\n",
    "# 將工作表的資料封裝成 Numpy Array\n",
    "data_sheet.range(\"A1\").options(np.array, expand=\"table\").value\n",
    "```\n"
   ]
  },
  {
   "cell_type": "code",
   "execution_count": null,
   "metadata": {
    "id": "z1jK7E22x6uS",
    "scrolled": true
   },
   "outputs": [],
   "source": []
  },
  {
   "cell_type": "markdown",
   "metadata": {
    "id": "cKH4W6PMx6uh"
   },
   "source": [
    "## options 範例\n",
    "\n",
    "```python\n",
    "import pandas as pd\n",
    "# 這行代表以 A1 為起點，同時往下與往右搜尋，找出了連續範圍的右下角，將銷售資料截取出來，存入 DataFrame\n",
    "df = data_sheet.range(\"A1\").options(pd.DataFrame, expand=\"table\").value\n",
    "\n",
    "```\n",
    "所以從圖示來看，`expand=\"table\"` 就像是：\n",
    "![](https://drive.google.com/uc?export=download&id=1AXJ4oKcqCFu4XyT9VRdb-FBrxvXgYNGm)\n"
   ]
  },
  {
   "cell_type": "code",
   "execution_count": null,
   "metadata": {
    "id": "jxSxnEpMx6uk",
    "scrolled": true
   },
   "outputs": [],
   "source": [
    "import pandas as pd\n",
    "# 將銷售資料截取出來，存入 DataFrame\n",
    "df = data_sheet.range(\"A1\").options(pd.DataFrame, expand=\"table\").value\n",
    "df"
   ]
  },
  {
   "cell_type": "code",
   "execution_count": null,
   "metadata": {
    "id": "uNWIC2Nwx6ut",
    "scrolled": true
   },
   "outputs": [],
   "source": [
    "# 將 DataFrame 的索引設定成日期\n",
    "df.set_index(\"日期\")"
   ]
  },
  {
   "cell_type": "markdown",
   "metadata": {
    "id": "83e0tf2fx6u4"
   },
   "source": [
    "## Pandas 的 groupby 功能\n",
    "\n",
    "先厘清我們是要以哪一欄做分類，將該欄的名稱以字串的方式指定給 **by**\n",
    "\n",
    "**DataFrame.groupby(by=\"欄位名稱\")**"
   ]
  },
  {
   "cell_type": "code",
   "execution_count": null,
   "metadata": {},
   "outputs": [],
   "source": [
    "# 計算加總\n",
    "df.groupby(\"產品\").sum()"
   ]
  },
  {
   "cell_type": "code",
   "execution_count": null,
   "metadata": {},
   "outputs": [],
   "source": [
    "# 計算平均\n",
    "df.groupby(\"產品\").mean()"
   ]
  },
  {
   "cell_type": "code",
   "execution_count": null,
   "metadata": {},
   "outputs": [],
   "source": [
    "# 計算資料筆數\n",
    "df.groupby(\"產品\")[\"業務員\"].count()"
   ]
  },
  {
   "cell_type": "code",
   "execution_count": null,
   "metadata": {
    "id": "kDbYcdUNx6vG"
   },
   "outputs": [],
   "source": [
    "# 以產品的項目對 DataFrame 的資料做分類，將分類出來的結果做加總\n",
    "df2 = df.groupby(by=\"產品\").sum()\n",
    "df2"
   ]
  },
  {
   "cell_type": "markdown",
   "metadata": {
    "id": "3VemcoVJx6vY"
   },
   "source": [
    "## df.sum()\n",
    "\n",
    "`df[\"欄名\"].sum()` 會將指定一欄的資料加總起來 "
   ]
  },
  {
   "cell_type": "code",
   "execution_count": null,
   "metadata": {
    "id": "zWHte8Ikx6vk"
   },
   "outputs": [],
   "source": [
    "# 將所有的金額都除上加總，算出每一種水果的銷量的百分比\n",
    "df2['金額'] / df2['金額'].sum()"
   ]
  },
  {
   "cell_type": "code",
   "execution_count": null,
   "metadata": {
    "id": "xKmz5re5x6vs",
    "scrolled": true
   },
   "outputs": [],
   "source": [
    "# 問題是這樣的數字依然不明顯，所以我們另外在 DataFrame 加入新的一欄，計算出每一種水果的銷量的百分比\n",
    "df2[\"比例%\"] =  df2[\"金額\"] * 100 / df2[\"金額\"].sum()\n",
    "df2"
   ]
  },
  {
   "cell_type": "markdown",
   "metadata": {
    "id": "3GurT958l7DN"
   },
   "source": [
    "這樣每一類水果對總營收的貢獻就一目瞭然了，不過我們其實不需要再比例呈現如此多位數，所以我們可以呼叫 **round()** 方法來簡化比例至小數點第二位：\n",
    "\n",
    "```python\n",
    "df2[\"比例%\"] = df2[\"比例%\"].round(2)\n",
    "df2\n",
    "```"
   ]
  },
  {
   "cell_type": "code",
   "execution_count": null,
   "metadata": {},
   "outputs": [],
   "source": []
  },
  {
   "cell_type": "markdown",
   "metadata": {},
   "source": [
    "## 排序 DataFrame 内的資料\n",
    "\n",
    "我們發現目前 DataFrame 内加總起來的資料並非依照大小來排列，所以我們就來排列一下資料：\n",
    "\n",
    "```python\n",
    "df3 = df2.sort_values(\"金額\", ascending=False)\n",
    "df3\n",
    "```"
   ]
  },
  {
   "cell_type": "code",
   "execution_count": null,
   "metadata": {
    "id": "TRmfe9CUx6v0",
    "scrolled": true
   },
   "outputs": [],
   "source": [
    "# 問題是加總起來的資料並非依照大小來排列，所以我們就手動來排列資料\n",
    "df3 = df2.sort_values(by=\"金額\", ascending=False)\n",
    "df3"
   ]
  },
  {
   "cell_type": "markdown",
   "metadata": {},
   "source": [
    "## 將 DataFrame 寫入 Excel 工作表\n",
    "\n",
    "不同于 **to_excel()** 或是 **to_csv()**，今天若要將 DataFrame 内的資料即時輸出至一個開啓的工作表：\n",
    "\n",
    "```python\n",
    "# 最後將這個 DataFrame 的資料寫回到 Excel\n",
    "# 簡單來説，就是設定 DataFrame 資料在 Excel 的左上角\n",
    "report_sheet = wb.sheets[\"報告\"]\n",
    "report_sheet.range(\"A1\").value = df3\n",
    "```"
   ]
  },
  {
   "cell_type": "code",
   "execution_count": null,
   "metadata": {
    "id": "FYEis_dZx6v7"
   },
   "outputs": [],
   "source": []
  },
  {
   "cell_type": "markdown",
   "metadata": {},
   "source": [
    "## 多層次的分類\n",
    "\n",
    "我們可以把資料以多個不同欄位進行分類，舉例來説，若希望知道每一個業務員對每一種產品的貢獻：\n",
    "\n",
    "```python\n",
    "df.groupby([df[\"產品\"], df[\"業務員\"]]).sum()\n",
    "```"
   ]
  },
  {
   "cell_type": "code",
   "execution_count": null,
   "metadata": {},
   "outputs": [],
   "source": [
    "df.groupby([df[\"產品\"], df[\"業務員\"]]).sum()"
   ]
  },
  {
   "cell_type": "markdown",
   "metadata": {},
   "source": [
    "## aggregate() 方法\n",
    "\n",
    "一次可以使用多種不同的聚合運算，下面的程式碼代表同時計算每一個業務員業績的平均以及加總：\n",
    "\n",
    "```python\n",
    "df.groupby([df[\"產品\"], df[\"業務員\"]]).aggregate([\"mean\", \"sum\"])\n",
    "```"
   ]
  },
  {
   "cell_type": "code",
   "execution_count": null,
   "metadata": {},
   "outputs": [],
   "source": [
    "df.groupby([df[\"產品\"], df[\"業務員\"]]).aggregate([\"mean\", \"sum\"])"
   ]
  },
  {
   "cell_type": "markdown",
   "metadata": {},
   "source": [
    "## aggregate() 方法\n",
    "\n",
    "另外一個厲害的地方在於能夠針對不同欄做不同的聚合運算：\n",
    "\n",
    "```python\n",
    "df.groupby([df[\"產品\"], df[\"業務員\"]]).aggregate({\"商店\": \"count\", \"金額\": \"sum\"})\n",
    "```"
   ]
  },
  {
   "cell_type": "code",
   "execution_count": null,
   "metadata": {},
   "outputs": [],
   "source": [
    "df.groupby([df[\"產品\"], df[\"業務員\"]]).aggregate({\"商店\": \"count\", \"金額\": \"sum\"})"
   ]
  },
  {
   "cell_type": "markdown",
   "metadata": {
    "id": "6lDe--uTx6wK"
   },
   "source": [
    "# 令一種實作樞紐報表的功能：pivot_table 方法\n",
    "\n",
    "用法：\n",
    "```python\n",
    "pd.pivot_table(data, values=None, index=None, columns=None, aggfunc='mean', fill_value=None, margins=False, dropna=True, margins_name='All')\n",
    "```\n",
    "\n",
    "看似很複雜，但從實務的角度來看，需要搞懂的是以下幾個最重要的參數：\n",
    "\n",
    "- index\n",
    "- columns\n",
    "- aggfunc\n",
    "\n",
    "官方文件：[連結](https://pandas.pydata.org/pandas-docs/stable/reference/api/pandas.pivot_table.html)"
   ]
  },
  {
   "cell_type": "code",
   "execution_count": null,
   "metadata": {
    "id": "bUWYN6fgx6wO"
   },
   "outputs": [],
   "source": [
    "# 首先，任何樞紐報表都需要 index，也就是分類用的欄位，下面這邊我們是以 “產品” 這一欄爲例\n",
    "pd.pivot_table(df, index=[\"產品\"])"
   ]
  },
  {
   "cell_type": "code",
   "execution_count": null,
   "metadata": {
    "id": "w_0Z5ykux6wc"
   },
   "outputs": [],
   "source": [
    "# 接下來我們需要指定一個聚合資料時的函數 / 算法，這邊我們會使用 numpy 的加總函數 sum\n",
    "# pivot_table 預設的 aggfunc 是 mean，代表計算平均值\n",
    "pd.pivot_table(df, index=[\"產品\"], aggfunc=\"sum\")"
   ]
  },
  {
   "cell_type": "code",
   "execution_count": null,
   "metadata": {},
   "outputs": [],
   "source": [
    "pd.pivot_table(df, index=[\"產品\"], aggfunc=\"mean\")"
   ]
  },
  {
   "cell_type": "code",
   "execution_count": null,
   "metadata": {},
   "outputs": [],
   "source": [
    "pd.pivot_table(df, index=[\"產品\"], aggfunc=\"count\")"
   ]
  },
  {
   "cell_type": "code",
   "execution_count": null,
   "metadata": {
    "id": "i5Xsd0Eex6xH"
   },
   "outputs": [],
   "source": [
    "# 也可從時間進行分層\n",
    "pd.pivot_table(df, index=[\"產品\"], columns=[\"日期\"])"
   ]
  },
  {
   "cell_type": "markdown",
   "metadata": {
    "id": "w7-X3MFCx6xN"
   },
   "source": [
    "## 練習：\n",
    "\n",
    "請利用樞紐報表計算出每一個業務員的業績，並且以大到小進行排序"
   ]
  },
  {
   "cell_type": "code",
   "execution_count": null,
   "metadata": {
    "id": "arhwQFRHx6xQ"
   },
   "outputs": [],
   "source": []
  },
  {
   "cell_type": "code",
   "execution_count": null,
   "metadata": {
    "id": "FF2klXCex6wm"
   },
   "outputs": [],
   "source": [
    "# 針對加總之後的金額做排序\n",
    "report = pd.pivot_table(df, index=[\"產品\"], aggfunc=np.sum).sort_values(by=\"金額\", ascending=False)\n",
    "report"
   ]
  },
  {
   "cell_type": "code",
   "execution_count": null,
   "metadata": {
    "id": "liKRKD8Mx6wt"
   },
   "outputs": [],
   "source": [
    "# 將樞紐分析表輸出至 Exel 工作表\n",
    "report_sheet.range(\"A1\").value = report"
   ]
  },
  {
   "cell_type": "markdown",
   "metadata": {
    "id": "KcdCT8Sex6xX"
   },
   "source": [
    "# pivot_table vs groupby\n",
    "\n",
    "兩者都是產生樞紐報表的功能，而 pivot_table 由於有 columns 參數，所以比 groupby **稍微更彈性，但是使用上也更複雜一點。**"
   ]
  },
  {
   "cell_type": "markdown",
   "metadata": {
    "id": "W_zPWj_Lx6xb"
   },
   "source": [
    "# 產生圓餅圖\n",
    "\n",
    "用 Python 產生樞紐報表的圓餅圖可以使用兩種不同的方式：\n",
    "\n",
    "- 使用 Excel 原廠 Chart 物件\n",
    "- 使用 Matplotlib\n",
    "\n",
    "我們先來看用 Python 操作 Excel 原廠的圖表物件"
   ]
  },
  {
   "cell_type": "code",
   "execution_count": null,
   "metadata": {
    "id": "oDqyjpyax6xd"
   },
   "outputs": [],
   "source": [
    "chart = report_sheet.charts.add()\n",
    "# 使用 expand 將試算表内所有、連續的資料撈出\n",
    "chart.set_source_data(report_sheet.range('A1').expand())\n",
    "chart.chart_type = 'pie'\n",
    "# 圓餅圖最上方等於 E1 儲存格的上邊\n",
    "chart.top = report_sheet.range('E1').top\n",
    "# 圓餅圖最左方等於 E1 儲存格的左邊\n",
    "chart.left = report_sheet.range('E1').left\n",
    "# 設定圓餅圖最擡頭（Windows 限定）\n",
    "# chart.api[1].ChartTitle.Text = '產品銷售金額比例'"
   ]
  },
  {
   "cell_type": "markdown",
   "metadata": {
    "id": "s9BVzxnqx6xj"
   },
   "source": [
    "![](https://drive.google.com/uc?export=download&id=1yf4D-EeGTswqdemupTY2tIRkBk_FfoJz)"
   ]
  },
  {
   "cell_type": "markdown",
   "metadata": {},
   "source": [
    "## 使用 Matplotlib 套件\n",
    "\n",
    "我們來嘗試利用 Python 的 Matplotlib - 一個强大的繪製圖表套件來畫圓餅圖，再將繪製好的圓餅圖嵌入至 Excel 工作表"
   ]
  },
  {
   "cell_type": "code",
   "execution_count": null,
   "metadata": {
    "id": "MsAyXKswx6xl"
   },
   "outputs": [],
   "source": [
    "import matplotlib.pyplot as plt"
   ]
  },
  {
   "cell_type": "code",
   "execution_count": null,
   "metadata": {
    "id": "ErJyOm1Xx6xr"
   },
   "outputs": [],
   "source": [
    "# 產生資料\n",
    "labels = final_report_df.index\n",
    "data = final_report_df[\"金額\"]\n",
    "# 設定字體\n",
    "plt.rcParams[\"font.sans-serif\"] = [\"SimHei\"]\n",
    "fig = plt.figure()\n",
    "\n",
    "plt.pie(data, labels=labels, autopct='%1.1f%%', shadow=True)\n",
    "plt.title(\"產品銷售比例圖\")\n",
    "plt.axis('equal')\n",
    "plt.show()"
   ]
  },
  {
   "cell_type": "markdown",
   "metadata": {
    "id": "Rys1c2tbx6xz"
   },
   "source": [
    "## 若遇到中文不能顯示的問題\n",
    "\n",
    "Matplotlib 解決中文亂碼教學：[連結](https://codertw.com/%E7%A8%8B%E5%BC%8F%E8%AA%9E%E8%A8%80/359974/)"
   ]
  },
  {
   "cell_type": "code",
   "execution_count": null,
   "metadata": {
    "id": "L8FHXVc0gJTK"
   },
   "outputs": [],
   "source": [
    "from matplotlib.font_manager import FontProperties\n",
    "# 設定字體\n",
    "font = FontProperties(\n",
    "    fname=r\"C:\\到 .ttf 檔案的路徑\", \n",
    "    size=14) # 指定字體的檔案位置與大小\n",
    "\n",
    "# 產生資料\n",
    "labels = final_report_df.index\n",
    "data = final_report_df[\"金額\"]\n",
    "\n",
    "fig = plt.figure()\n",
    "\n",
    "patch, label_txt, pie_txt = plt.pie(data, labels=labels, autopct='%1.1f%%')\n",
    "\n",
    "for label in label_txt:\n",
    "    label.set_fontproperties(font)\n",
    "\n",
    "plt.title(\"產品銷售比例圖\", fontproperties=font)\n",
    "plt.axis('equal')\n",
    "plt.show()"
   ]
  },
  {
   "cell_type": "markdown",
   "metadata": {
    "id": "Vjo-E7SVx6x2"
   },
   "source": [
    "# 將圖表輸出到 Excel 上"
   ]
  },
  {
   "cell_type": "code",
   "execution_count": null,
   "metadata": {
    "id": "SEXZ-qFAx6x5"
   },
   "outputs": [],
   "source": [
    "plot = report_sheet.pictures.add(fig, left=report_sheet.range('E1').left, \n",
    "                                 top=report_sheet.range('E1').top)"
   ]
  },
  {
   "cell_type": "markdown",
   "metadata": {
    "id": "CI28-e34x6x_"
   },
   "source": [
    "![](https://drive.google.com/uc?export=download&id=1OVEhF24_2VDpgo0PdqJY6PgX9WJ2YG9n)"
   ]
  },
  {
   "cell_type": "markdown",
   "metadata": {
    "id": "hEUvmhGjx6yC"
   },
   "source": [
    "# 完整版程式碼"
   ]
  },
  {
   "cell_type": "code",
   "execution_count": null,
   "metadata": {
    "id": "8bPRbn9zx6yD"
   },
   "outputs": [],
   "source": [
    "import xlwings as xw\n",
    "import pandas as pd\n",
    "import matplotlib.pyplot as plt\n",
    "from matplotlib.font_manager import FontProperties\n",
    "\n",
    "# 請輸入 pivot_table.xlsx 的絕對路徑\n",
    "wb = xw.Book(r\"pivot_table.xlsx\")\n",
    "\n",
    "data_sheet = wb.sheets[\"銷售數據\"]\n",
    "report_sheet = wb.sheets[\"報告\"]\n",
    "# 將銷售資料截取出來，存入 DataFrame\n",
    "df = data_sheet.range(\"A1\").options(pd.DataFrame, expand=\"table\").value\n",
    "\n",
    "df2 = df.groupby(by=\"產品\").sum()\n",
    "# 問題是這樣的數字依然不明顯，所以我們另外在 DataFrame 加入新的一欄，計算出每一種水果的銷量的百分比\n",
    "df2[\"比例%\"] =  df2[\"金額\"] * 100 / df2[\"金額\"].sum()\n",
    "df3 = df2.sort_values(by=\"金額\", ascending=False)\n",
    "report_sheet.range(\"A1\").value = df3\n",
    "\n",
    "# 產生資料\n",
    "labels = df3.index\n",
    "data = df3[\"金額\"]\n",
    "# 設定字體\n",
    "font = FontProperties(\n",
    "    fname=r\"C:\\到 .ttf 檔案的路徑\", \n",
    "    size=14) # 指定字體的檔案位置與大小\n",
    "\n",
    "fig = plt.figure()\n",
    "patch, label_txt, pie_txt = plt.pie(data, labels=labels, autopct=\"%1.1f%%\")\n",
    "for label in label_txt:\n",
    "    label.set_fontproperties(font)\n",
    "plt.title(\"產品銷售比例圖\", fontproperties=font)\n",
    "plt.axis(\"equal\")\n",
    "plt.show()\n",
    "plot = report_sheet.pictures.add(fig, left=report_sheet.range(\"E1\").left, \n",
    "                                 top=report_sheet.range(\"E1\").top)"
   ]
  }
 ],
 "metadata": {
  "colab": {
   "collapsed_sections": [],
   "name": "Python x Excel 的整合術 第六課 Part3：用 Pandas 產生樞紐報表 (pivot table).ipynb",
   "provenance": []
  },
  "kernelspec": {
   "display_name": "Python 3 (ipykernel)",
   "language": "python",
   "name": "python3"
  },
  "language_info": {
   "codemirror_mode": {
    "name": "ipython",
    "version": 3
   },
   "file_extension": ".py",
   "mimetype": "text/x-python",
   "name": "python",
   "nbconvert_exporter": "python",
   "pygments_lexer": "ipython3",
   "version": "3.11.5"
  }
 },
 "nbformat": 4,
 "nbformat_minor": 1
}
