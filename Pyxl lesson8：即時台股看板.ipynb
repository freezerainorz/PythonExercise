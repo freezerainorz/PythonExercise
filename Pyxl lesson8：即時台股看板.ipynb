{
 "cells": [
  {
   "cell_type": "markdown",
   "metadata": {
    "colab_type": "text",
    "id": "Ru65hc9iwM_W"
   },
   "source": [
    "# 8.1 即時台股看板\n",
    "\n",
    "最後我們就發揮我們在過去所學，利用 **Excel、Python**、以及股價爬蟲來打造一個台股即時看板： \n",
    "\n",
    "完成品影片：https://youtu.be/5cf-G2IRVdk\n",
    "\n",
    "![](https://drive.google.com/uc?export=download&id=1K8MqMzg-71bk33rB-qVSGSmn8PxCAaCP)\n",
    "\n",
    "**備注：本教材由張佑成編寫，版權所有，翻印必究**\n",
    "\n",
    "\n",
    "# 8.2 目標\n",
    "\n",
    "該即時看板應該具備以下功能：\n",
    "\n",
    "1. 顯示即時股價與漲跌幅度\n",
    "\n",
    "![](https://drive.google.com/uc?export=download&id=161WgYDildws9AJMNaT8Oha0VdJXmYUy_)\n",
    "\n",
    "2. 允許使用者輸入不同的股票代號\n",
    "3. 程式會根據使用者輸入的股票代號顯示相對應的即時股價\n",
    "4. 根據條件通知使用者的功能"
   ]
  },
  {
   "cell_type": "markdown",
   "metadata": {
    "colab_type": "text",
    "id": "j74g28xgwNAU"
   },
   "source": [
    "# 8.3 顯示即時的股價\n",
    "\n",
    "首先，我們先開啓 **PyXL台股看板.xlsx** 檔案\n",
    "\n",
    "```python\n",
    "import xlwings as xw\n",
    "\n",
    "wb = xw.Book(\"PyXL台股看板.xlsx\")\n",
    "# 將 \"觀察清單\" 工作表存入 watch_list\n",
    "watch_list = wb.sheets[\"觀察清單\"]\n",
    "```\n"
   ]
  },
  {
   "cell_type": "code",
   "execution_count": null,
   "metadata": {
    "colab": {},
    "colab_type": "code",
    "id": "XpflOlv6wM_p"
   },
   "outputs": [],
   "source": []
  },
  {
   "cell_type": "markdown",
   "metadata": {
    "colab_type": "text",
    "id": "zkEy2jp7wNBL"
   },
   "source": [
    "# 8.3.1 截取即時股價資訊\n",
    "\n",
    "回顧一下之前的教材，若要一次將多筆資料寫入到一個工作表的範圍内，我們可以先將所有資料都封裝到一個串列内\n",
    "\n",
    "我們可以先觀察需要寫入的範圍的大小：\n",
    "\n",
    "![](https://drive.google.com/uc?export=download&id=14V9m9pqMuAbcTfkdKWuuCSTSRku5IFRF)\n",
    "\n",
    "如上圖顯示的，**B2:G2** 是一個 1 x 6 大小的範圍\n",
    "\n",
    "在這樣的狀況下，我們必須透過 Python 把一個個股的資料轉變成以下格式：\n",
    "\n",
    "```python\n",
    "['玉山金', 27.15, 27.25, 27.15, 27.25, 27.05]\n",
    "```\n",
    "\n",
    "至於我們要如何取得股價資訊呢？我們在之前的課程打造的台股爬蟲並不適用於此，原因在於[聚財網](https://stock.wearn.com/cdata.asp?kind=2330)上的資訊並非即時資訊。\n",
    "\n",
    "因此，我們需要一個會顯示即時股價資訊的網頁來當作資料來源，而在這一堂課，我們會使用[Yahoo!股市](https://tw.stock.yahoo.com/quote/2330.TW)：\n",
    "\n",
    "```python\n",
    "import requests\n",
    "from bs4 import BeautifulSoup as BS\n",
    "\n",
    "# 截取臺積電個股基本資訊\n",
    "res = requests.get(f\"https://tw.stock.yahoo.com/quote/2330.TW\")\n",
    "html = BS(res.text, \"html.parser\")\n",
    "```"
   ]
  },
  {
   "cell_type": "code",
   "execution_count": null,
   "metadata": {},
   "outputs": [],
   "source": []
  },
  {
   "cell_type": "markdown",
   "metadata": {},
   "source": [
    "我們可以透過以下程式碼截取股票中文簡稱：\n",
    "\n",
    "```python\n",
    "h1 = html.findAll(\"h1\", { \"class\": \"C($c-link-text) Fw(b) Fz(24px) Mend(8px)\"})[0]\n",
    "name = h1.text\n",
    "print(name)\n",
    "```\n",
    "\n"
   ]
  },
  {
   "cell_type": "code",
   "execution_count": null,
   "metadata": {},
   "outputs": [],
   "source": []
  },
  {
   "cell_type": "markdown",
   "metadata": {},
   "source": [
    "截取頁面上即時的交易資訊：\n",
    "\n",
    "```python\n",
    "spans = html.findAll(\"span\", {\"class\":[\"Fw(600) Fz(16px)--mobile Fz(14px) D(f) Ai(c) C($c-trend-down)\", \n",
    "                                      \"Fw(600) Fz(16px)--mobile Fz(14px) D(f) Ai(c) C($c-trend-up)\",\n",
    "                                      \"Fw(600) Fz(16px)--mobile Fz(14px) D(f) Ai(c)\"]})\n",
    "```"
   ]
  },
  {
   "cell_type": "code",
   "execution_count": null,
   "metadata": {},
   "outputs": [],
   "source": []
  },
  {
   "cell_type": "markdown",
   "metadata": {},
   "source": [
    "將所有的 `span` 内的文字讀取出來：\n",
    "\n",
    "```python\n",
    "data = [float(span.text) for span in spans]\n",
    "print(data)\n",
    "```"
   ]
  },
  {
   "cell_type": "code",
   "execution_count": null,
   "metadata": {},
   "outputs": [],
   "source": []
  },
  {
   "cell_type": "markdown",
   "metadata": {},
   "source": [
    "檢查我們的資料：\n",
    "\n",
    "```python\n",
    "price_close = data[0]\n",
    "price_open = data[1]\n",
    "price_high = data[2]\n",
    "price_low = data[3]\n",
    "last_close = data[5]\n",
    "\n",
    "print(f\"2330 交易資訊：{name, price_open, price_high, price_low, price_close, last_close}\")\n",
    "```"
   ]
  },
  {
   "cell_type": "code",
   "execution_count": null,
   "metadata": {},
   "outputs": [],
   "source": []
  },
  {
   "cell_type": "markdown",
   "metadata": {},
   "source": [
    "將資料整理成我們需要的格式：\n",
    "\n",
    "```python\n",
    "print([name, data[1], data[2], data[3], data[0], data[5]])\n",
    "```"
   ]
  },
  {
   "cell_type": "code",
   "execution_count": null,
   "metadata": {},
   "outputs": [],
   "source": []
  },
  {
   "cell_type": "markdown",
   "metadata": {},
   "source": [
    "# 8.3.2 將我們剛才處理資料的流程封裝到函數内\n",
    "\n",
    "接下來修改網址最後的股票代號之後，我們的程式就可以截取多支不同的股票資訊了。\n",
    "爲了保持後續程式碼的簡潔，我們可以將爬蟲封裝成一個函數：\n",
    "\n",
    "```python\n",
    "import requests\n",
    "from bs4 import BeautifulSoup as BS\n",
    "\n",
    "# 截取玉山銀個股基本資訊\n",
    "# 輸入股票代號，回傳該股票的收盤價\n",
    "def tw_stock_crawler(sid):\n",
    "    res = requests.get(f\"https://tw.stock.yahoo.com/quote/{sid}.TW\")\n",
    "    html = BS(res.text, \"html.parser\")\n",
    "\n",
    "    spans = html.findAll(\"span\", {\"class\":[\"Fw(600) Fz(16px)--mobile Fz(14px) D(f) Ai(c) C($c-trend-down)\", \n",
    "                                          \"Fw(600) Fz(16px)--mobile Fz(14px) D(f) Ai(c) C($c-trend-up)\",\n",
    "                                          \"Fw(600) Fz(16px)--mobile Fz(14px) D(f) Ai(c)\"]})\n",
    "    h1 = html.findAll(\"h1\", { \"class\": \"C($c-link-text) Fw(b) Fz(24px) Mend(8px)\"})[0]\n",
    "    \n",
    "    data = [float(span.text) for span in spans]\n",
    "    #print(data)\n",
    "    # 以字典形式回傳我們的資料\n",
    "    return {\n",
    "        \"name\": h1.text,\n",
    "        \"open\": data[1],\n",
    "        \"high\": data[2],\n",
    "        \"low\": data[3],\n",
    "        \"close\": data[0],\n",
    "        \"last\": data[5]\n",
    "    }\n",
    "    \n",
    "```\n",
    "\n",
    "*若截取 Yahoo! 網頁失敗，請改使用聚財網：[程式碼](https://gist.github.com/yuyueugene84/a492a0ac809afcb9d49f738e130675ee)"
   ]
  },
  {
   "cell_type": "code",
   "execution_count": null,
   "metadata": {},
   "outputs": [],
   "source": []
  },
  {
   "cell_type": "markdown",
   "metadata": {},
   "source": [
    "測試我們寫好的函數：\n",
    "\n",
    "```python\n",
    "print(tw_stock_crawler(\"2412\"))\n",
    "```"
   ]
  },
  {
   "cell_type": "code",
   "execution_count": null,
   "metadata": {},
   "outputs": [],
   "source": []
  },
  {
   "cell_type": "markdown",
   "metadata": {},
   "source": [
    "將資料整理成我們要的格式：\n",
    "\n",
    "\n",
    "```python\n",
    "sid = \"2884\"\n",
    "\n",
    "data = tw_stock_crawler(sid)\n",
    "\n",
    "watch_list.range(\"B2\").value = [\n",
    "    data[\"name\"],\n",
    "    data[\"open\"],\n",
    "    data[\"high\"],\n",
    "    data[\"low\"],\n",
    "    data[\"close\"],\n",
    "    data[\"last\"],\n",
    "    data[\"close\"]/data[\"last\"]-1\n",
    "]\n",
    "```"
   ]
  },
  {
   "cell_type": "code",
   "execution_count": null,
   "metadata": {},
   "outputs": [],
   "source": []
  },
  {
   "cell_type": "markdown",
   "metadata": {
    "colab_type": "text",
    "id": "hKvfcU2lwND3"
   },
   "source": [
    "\n",
    "\n",
    "我們就可以成功將資料寫入工作表了：\n",
    "\n",
    "![](https://drive.google.com/uc?export=download&id=161WgYDildws9AJMNaT8Oha0VdJXmYUy_)\n",
    "\n",
    "最後只需要輸入一個公式，我們就可以將漲跌幅度計算出來：\n",
    "\n",
    "![](https://drive.google.com/uc?export=download&id=18mW3ehmeHvaW44QFWFxyYxR10VecXf6J)"
   ]
  },
  {
   "cell_type": "code",
   "execution_count": null,
   "metadata": {},
   "outputs": [],
   "source": []
  },
  {
   "cell_type": "markdown",
   "metadata": {
    "colab_type": "text",
    "id": "kbSNVGT-wNEA"
   },
   "source": [
    "# 8.4 動態截取使用者輸入的觀察清單\n",
    "\n",
    "若要頻繁的修改程式碼來截取不同的股價資料，並不是一個聰明的做法，**因爲頻繁的修改程式碼會增加程式碼出錯的風險**\n",
    "\n",
    "所以我們就利用 Excel 來當成一個簡易的前端界面，把使用程式的流程改成：\n",
    "\n",
    "1. 動態截取使用者輸入的股票代號\n",
    "2. 動態截取資料\n",
    "3. 寫入工作表\n",
    "\n",
    "\n",
    "我們先來看下面這段程式碼：\n",
    "\n",
    "```python\n",
    "# 查詢最後一列的列數\n",
    "last_row = watch_list.range(\"A1\").end(\"down\").row\n",
    "\n",
    "# 迭代每一列，取出 A 欄的股票代號\n",
    "for i in range(2, last_row+1):\n",
    "    stock_id = watch_list.range(f\"A{i}\").value\n",
    "    print(stock_id)\n",
    "    \n",
    "# 2884\n",
    "# 2330.0\n",
    "# 2317.0\n",
    "# 0050\n",
    "```"
   ]
  },
  {
   "cell_type": "code",
   "execution_count": null,
   "metadata": {
    "colab": {},
    "colab_type": "code",
    "id": "0eYhKv5RwNEJ"
   },
   "outputs": [],
   "source": []
  },
  {
   "cell_type": "markdown",
   "metadata": {},
   "source": [
    "可以發現 Python 會自動將我們填入的數字**截取成浮點數**，這樣會破壞爬蟲的運作\n",
    "\n",
    "因此，我們需要修改一下程式碼，先偵測 A 欄資料的資料型別，再將其轉爲浮點數\n",
    "\n",
    "```python\n",
    "stock_id = watch_list.range(f\"A{i}\").value\n",
    "# 處理字串\n",
    "if type(stock_id) == float:\n",
    "    stock_id = str(int(stock_id))\n",
    "```\n",
    "\n",
    "而上述這段程式碼可以被簡化成以下：\n",
    "\n",
    "```python\n",
    "stock_id = str(int(stock_id)) if type(stock_id) == float else str(stock_id)\n",
    "```"
   ]
  },
  {
   "cell_type": "code",
   "execution_count": null,
   "metadata": {
    "colab": {},
    "colab_type": "code",
    "id": "IdNUjNMrwNEb"
   },
   "outputs": [],
   "source": []
  },
  {
   "cell_type": "markdown",
   "metadata": {
    "colab": {},
    "colab_type": "code",
    "id": "o6amQrqXwNE2"
   },
   "source": [
    "修改一下我們原本的 for loop：\n",
    "\n",
    "```python\n",
    "# 偵測最後一行\n",
    "last_row = watch_list.range(\"A1\").end(\"down\").row\n",
    "# 從第二行到最後一行\n",
    "for i in range(2, last_row+1):\n",
    "    # 截取該行 A 欄的資料\n",
    "    sid = watch_list.range(f\"A{i}\").value\n",
    "    # 處理字串\n",
    "    sid = str(int(sid)) if type(sid) == float else str(sid)\n",
    "    print(sid)\n",
    "    data = tw_stock_crawler(sid)\n",
    "    print(data)\n",
    "```"
   ]
  },
  {
   "cell_type": "code",
   "execution_count": null,
   "metadata": {},
   "outputs": [],
   "source": []
  },
  {
   "cell_type": "markdown",
   "metadata": {
    "colab": {},
    "colab_type": "code",
    "id": "Jl5zaE6uwNFQ"
   },
   "source": [
    "最後再加上寫入的動作：\n",
    "\n",
    "```python\n",
    "# 偵測最後一行\n",
    "last_row = watch_list.range(\"A1\").end(\"down\").row\n",
    "print(last_row)\n",
    "# 從第二行到最後一行\n",
    "for i in range(2, last_row+1):\n",
    "    # 截取該行 A 欄的資料\n",
    "    sid = watch_list.range(f\"A{i}\").value\n",
    "    sid = str(int(sid)) if type(sid) == float else str(sid)\n",
    "    print(sid)\n",
    "    data = tw_stock_crawler(sid)\n",
    "    print(data)\n",
    "    # 將結果寫入觀察清單的同一行\n",
    "    watch_list.range(f\"B{i}\").value = [\n",
    "        data[\"name\"],\n",
    "        data[\"open\"],\n",
    "        data[\"high\"],\n",
    "        data[\"low\"],\n",
    "        data[\"close\"],\n",
    "        data[\"last\"],\n",
    "        data[\"close\"]/data[\"last\"]-1\n",
    "    ]\n",
    "```"
   ]
  },
  {
   "cell_type": "code",
   "execution_count": null,
   "metadata": {},
   "outputs": [],
   "source": []
  },
  {
   "cell_type": "markdown",
   "metadata": {
    "colab_type": "text",
    "id": "0s9HqQqswNFt"
   },
   "source": [
    "最後我們的觀察清單就會顯示：\n",
    "\n",
    "![](https://drive.google.com/uc?export=download&id=1clkVXuWuj9tOWk8XXCpogJRV7_q8d6Z4)"
   ]
  },
  {
   "cell_type": "markdown",
   "metadata": {},
   "source": [
    "# 8.5 顯示時間\n",
    "\n",
    "使用者很難顯示在看板上的資料判斷是否是即時的資訊，因此，我們可以加上一個顯示最後更新時間的功能：\n",
    "\n",
    "![](https://drive.google.com/uc?export=download&id=1K8MqMzg-71bk33rB-qVSGSmn8PxCAaCP)\n",
    "\n",
    "要打造出這樣的功能，我們可以再次把 Python 的 `strftime()` 拿出來使用：\n",
    "\n",
    "```python\n",
    "import time\n",
    "time.strftime(\"%Y%m%d %H:%M:%S\")\n",
    "````"
   ]
  },
  {
   "cell_type": "code",
   "execution_count": null,
   "metadata": {},
   "outputs": [],
   "source": []
  },
  {
   "cell_type": "markdown",
   "metadata": {},
   "source": [
    "最後我們只需要指定被寫入時間的儲存格即可，做法很簡單，只需要先定義好顯示儲存格的名稱為 **上次更新**:\n",
    "![](https://drive.google.com/uc?export=download&id=1B8H358y9yJVBLhHuzMsmSUyTOA41L4t0)\n",
    "\n",
    "接下來將方才產生的時間寫入儲存格即可：\n",
    "\n",
    "```python\n",
    "import time\n",
    "\n",
    "watch_list.range(\"上次更新\").value = time.strftime(\"%Y%m%d %H:%M:%S\")\n",
    "```"
   ]
  },
  {
   "cell_type": "code",
   "execution_count": null,
   "metadata": {},
   "outputs": [],
   "source": []
  },
  {
   "cell_type": "markdown",
   "metadata": {},
   "source": [
    "大公告成！"
   ]
  },
  {
   "cell_type": "markdown",
   "metadata": {},
   "source": [
    "# 8.6 加入 Line Notify 功能\n",
    "\n",
    "我們希望看板能夠有通知使用者的功能，在遇到特殊狀況時，會通過 Line Notify 即時通報訊息給使用者：\n",
    "\n",
    "```python\n",
    "import requests\n",
    "\n",
    "# 只需要把 content 的內容改成你需要傳遞的訊息即可\n",
    "content = \"你好,我是來自 Python 的訊息，啾咪！\"\n",
    "\n",
    "# Line Notify\n",
    "line_url = \"https://notify-api.line.me/api/notify\"\n",
    "token = \"你申請到的 Line 權杖\"\n",
    "headers = {\n",
    "        \"Authorization\": \"Bearer \" + token\n",
    "    }\n",
    "\n",
    "payload = {'message': content}\n",
    "r = requests.post(line_url, headers = headers, params = payload)\n",
    "\n",
    "```"
   ]
  },
  {
   "cell_type": "code",
   "execution_count": null,
   "metadata": {},
   "outputs": [],
   "source": []
  },
  {
   "cell_type": "markdown",
   "metadata": {},
   "source": [
    "# 8.6.1 將 Line Notify 封裝成函數\n",
    "\n",
    "```python\n",
    "def line_notify(msg, token):\n",
    "    line_url = \"https://notify-api.line.me/api/notify\"\n",
    "    headers = {\n",
    "            \"Authorization\": \"Bearer \" + token\n",
    "        }\n",
    "\n",
    "    payload = {'message': msg}\n",
    "    r = requests.post(line_url, headers = headers, params = payload)\n",
    "    return\n",
    "```"
   ]
  },
  {
   "cell_type": "code",
   "execution_count": null,
   "metadata": {},
   "outputs": [],
   "source": []
  },
  {
   "cell_type": "markdown",
   "metadata": {},
   "source": [
    "測試一下我們的函數：\n",
    "\n",
    "```python\n",
    "# 從工作表上使用者填入的 line token\n",
    "token = watch_list.range(\"lineToken\").value\n",
    "# 發送 Line 訊息\n",
    "line_notify(\"hello world!\", token)\n",
    "```"
   ]
  },
  {
   "cell_type": "code",
   "execution_count": null,
   "metadata": {},
   "outputs": [],
   "source": []
  },
  {
   "cell_type": "markdown",
   "metadata": {},
   "source": [
    "最後，我們可以根據條件，判斷是否要發送 Line 訊息。\n",
    "\n",
    "舉例來説，如果要判斷某個股是否開始下跌：\n",
    "\n",
    "```python\n",
    "# 個股列數\n",
    "i = 2\n",
    "if watch_list.range(f\"H{i}\").value < 0:\n",
    "    # 產生訊息\n",
    "    msg = f\"{data['name']} 目前開始下跌，請注意！\"\n",
    "    # 發送訊息\n",
    "    line_notify(msg, token)\n",
    "```"
   ]
  },
  {
   "cell_type": "code",
   "execution_count": null,
   "metadata": {},
   "outputs": [],
   "source": []
  },
  {
   "cell_type": "markdown",
   "metadata": {},
   "source": [
    "# 8.7 完整版程式碼"
   ]
  },
  {
   "cell_type": "code",
   "execution_count": 7,
   "metadata": {},
   "outputs": [
    {
     "name": "stdout",
     "output_type": "stream",
     "text": [
      "6\n",
      "2330\n",
      "{'name': '台積電', 'open': 581.0, 'high': 582.0, 'low': 579.0, 'close': 582.0, 'last': 574.0}\n",
      "2454\n",
      "{'name': '聯發科', 'open': 961.0, 'high': 969.0, 'low': 953.0, 'close': 966.0, 'last': 955.0}\n",
      "0050\n",
      "{'name': '元大台灣50', 'open': 132.65, 'high': 133.45, 'low': 132.5, 'close': 133.15, 'last': 131.55}\n",
      "2303\n",
      "{'name': '聯電', 'open': 50.4, 'high': 50.5, 'low': 50.0, 'close': 50.4, 'last': 50.2}\n",
      "2603\n"
     ]
    },
    {
     "ename": "IndexError",
     "evalue": "list index out of range",
     "output_type": "error",
     "traceback": [
      "\u001b[1;31m---------------------------------------------------------------------------\u001b[0m",
      "\u001b[1;31mIndexError\u001b[0m                                Traceback (most recent call last)",
      "Cell \u001b[1;32mIn[7], line 46\u001b[0m\n\u001b[0;32m     44\u001b[0m sid \u001b[38;5;241m=\u001b[39m \u001b[38;5;28mstr\u001b[39m(\u001b[38;5;28mint\u001b[39m(sid)) \u001b[38;5;28;01mif\u001b[39;00m \u001b[38;5;28mtype\u001b[39m(sid) \u001b[38;5;241m==\u001b[39m \u001b[38;5;28mfloat\u001b[39m \u001b[38;5;28;01melse\u001b[39;00m \u001b[38;5;28mstr\u001b[39m(sid)\n\u001b[0;32m     45\u001b[0m \u001b[38;5;28mprint\u001b[39m(sid)\n\u001b[1;32m---> 46\u001b[0m data \u001b[38;5;241m=\u001b[39m tw_stock_crawler(sid)\n\u001b[0;32m     47\u001b[0m \u001b[38;5;28mprint\u001b[39m(data)\n\u001b[0;32m     48\u001b[0m \u001b[38;5;66;03m# 將結果寫入觀察清單的同一行\u001b[39;00m\n",
      "Cell \u001b[1;32mIn[7], line 12\u001b[0m, in \u001b[0;36mtw_stock_crawler\u001b[1;34m(sid)\u001b[0m\n\u001b[0;32m      8\u001b[0m html \u001b[38;5;241m=\u001b[39m BS(res\u001b[38;5;241m.\u001b[39mtext, \u001b[38;5;124m\"\u001b[39m\u001b[38;5;124mhtml.parser\u001b[39m\u001b[38;5;124m\"\u001b[39m)\n\u001b[0;32m      9\u001b[0m spans \u001b[38;5;241m=\u001b[39m html\u001b[38;5;241m.\u001b[39mfindAll(\u001b[38;5;124m\"\u001b[39m\u001b[38;5;124mspan\u001b[39m\u001b[38;5;124m\"\u001b[39m, {\u001b[38;5;124m\"\u001b[39m\u001b[38;5;124mclass\u001b[39m\u001b[38;5;124m\"\u001b[39m:[\u001b[38;5;124m\"\u001b[39m\u001b[38;5;124mFw(600) Fz(16px)--mobile Fz(14px) D(f) Ai(c) C($c-trend-down)\u001b[39m\u001b[38;5;124m\"\u001b[39m, \n\u001b[0;32m     10\u001b[0m                                       \u001b[38;5;124m\"\u001b[39m\u001b[38;5;124mFw(600) Fz(16px)--mobile Fz(14px) D(f) Ai(c) C($c-trend-up)\u001b[39m\u001b[38;5;124m\"\u001b[39m,\n\u001b[0;32m     11\u001b[0m                                       \u001b[38;5;124m\"\u001b[39m\u001b[38;5;124mFw(600) Fz(16px)--mobile Fz(14px) D(f) Ai(c)\u001b[39m\u001b[38;5;124m\"\u001b[39m]})\n\u001b[1;32m---> 12\u001b[0m h1 \u001b[38;5;241m=\u001b[39m html\u001b[38;5;241m.\u001b[39mfindAll(\u001b[38;5;124m\"\u001b[39m\u001b[38;5;124mh1\u001b[39m\u001b[38;5;124m\"\u001b[39m, { \u001b[38;5;124m\"\u001b[39m\u001b[38;5;124mclass\u001b[39m\u001b[38;5;124m\"\u001b[39m: \u001b[38;5;124m\"\u001b[39m\u001b[38;5;124mC($c-link-text) Fw(b) Fz(24px) Mend(8px)\u001b[39m\u001b[38;5;124m\"\u001b[39m})[\u001b[38;5;241m0\u001b[39m]\n\u001b[0;32m     13\u001b[0m data \u001b[38;5;241m=\u001b[39m [\u001b[38;5;28mfloat\u001b[39m(span\u001b[38;5;241m.\u001b[39mtext) \u001b[38;5;28;01mfor\u001b[39;00m span \u001b[38;5;129;01min\u001b[39;00m spans]\n\u001b[0;32m     14\u001b[0m \u001b[38;5;66;03m# 以字典形式回傳我們的資料\u001b[39;00m\n",
      "\u001b[1;31mIndexError\u001b[0m: list index out of range"
     ]
    }
   ],
   "source": [
    "import time\n",
    "import requests\n",
    "import xlwings as xw\n",
    "from bs4 import BeautifulSoup as BS\n",
    "\n",
    "def tw_stock_crawler(sid):\n",
    "    res = requests.get(f\"https://tw.stock.yahoo.com/quote/{sid}.TW\")\n",
    "    html = BS(res.text, \"html.parser\")\n",
    "    spans = html.findAll(\"span\", {\"class\":[\"Fw(600) Fz(16px)--mobile Fz(14px) D(f) Ai(c) C($c-trend-down)\", \n",
    "                                          \"Fw(600) Fz(16px)--mobile Fz(14px) D(f) Ai(c) C($c-trend-up)\",\n",
    "                                          \"Fw(600) Fz(16px)--mobile Fz(14px) D(f) Ai(c)\"]})\n",
    "    h1 = html.findAll(\"h1\", { \"class\": \"C($c-link-text) Fw(b) Fz(24px) Mend(8px)\"})[0]\n",
    "    data = [float(span.text) for span in spans]\n",
    "    # 以字典形式回傳我們的資料\n",
    "    return {\n",
    "        \"name\": h1.text,\n",
    "        \"open\": data[1],\n",
    "        \"high\": data[2],\n",
    "        \"low\": data[3],\n",
    "        \"close\": data[0],\n",
    "        \"last\": data[5]\n",
    "    }\n",
    "\n",
    "def line_notify(msg, token):\n",
    "    line_url = \"https://notify-api.line.me/api/notify\"\n",
    "    headers = {\n",
    "            \"Authorization\": \"Bearer \" + token\n",
    "        }\n",
    "    payload = {'message': msg}\n",
    "    r = requests.post(line_url, headers = headers, params = payload)\n",
    "    return\n",
    "\n",
    "wb = xw.Book(\"PyXL台股看板.xlsx\")\n",
    "watch_list = wb.sheets[\"觀察清單\"]\n",
    "\n",
    "while True:\n",
    "    # 偵測最後一行\n",
    "    last_row = watch_list.range(\"A1\").end(\"down\").row\n",
    "    print(last_row)\n",
    "    # 從第二行到最後一行\n",
    "    for i in range(2, last_row+1):\n",
    "        # 截取該行 A 欄的資料\n",
    "        sid = watch_list.range(f\"A{i}\").value\n",
    "        sid = str(int(sid)) if type(sid) == float else str(sid)\n",
    "        print(sid)\n",
    "        data = tw_stock_crawler(sid)\n",
    "        print(data)\n",
    "        # 將結果寫入觀察清單的同一行\n",
    "        watch_list.range(f\"B{i}\").value = [\n",
    "            data[\"name\"],\n",
    "            data[\"open\"],\n",
    "            data[\"high\"],\n",
    "            data[\"low\"],\n",
    "            data[\"close\"],\n",
    "            data[\"last\"],\n",
    "            data[\"close\"]/data[\"last\"]-1\n",
    "        ]\n",
    "        \n",
    " \n",
    "    # 記錄時間\n",
    "    watch_list.range(\"上次更新\").value = time.strftime(\"%Y%m%d %H:%M:%S\")\n",
    "    # 間隔 15 秒鐘，再爬一次資料\n",
    "    time.sleep(5)"
   ]
  },
  {
   "cell_type": "markdown",
   "metadata": {},
   "source": [
    "## 8.8 小結\n",
    "\n",
    "\n",
    "\n",
    "\n",
    "\n",
    "在這一個教學，我們利用 Excel、Python、Line Notify、以及股價爬蟲打造出了一個台股即時看板。\n",
    "\n",
    "在實作的過程當中，我們學會了如何將 **Excel 應用程式當作前端界面，讓 Python 當作後端程式**，根據這兩個工具的優勢進行整合，打造出了一個非常實用的解決方案。\n",
    "\n",
    "接下來各位可以根據同樣的流程：\n",
    "1. 打造個人或公司内部的後台資料的即時看板，請**技術人員開放 API，讓 Python 將即時的數據從後臺資料庫讀取出來，以自訂的格式呈現在 Excel 工作表上。**\n",
    "2. 若希望能夠驗證一個想法，或是需要快速利用程式實作出一個 App 或網站的 Proto Type（雛形），但是卻沒有過多時間在刻畫前端界面時，不妨可以考慮將**期望的界面先在 Excel 上實作出來，若想法驗證成功，日後在實際開發時，也方便以此工作表與開發人員進行溝通。**\n",
    "\n",
    "備注：\n",
    "\n",
    "如果有同學對取得即時的台股資料有興趣，我在這邊推薦 [**fugle 即時股價 API**](https://developer.fugle.tw/docs/trading/intro)，開發者只需要[**花五分鐘開戶**](https://openaccount.fugle.tw/?referral=f-a7fbad3&utm_source=referral&utm_medium=link)，即可免費使用。"
   ]
  }
 ],
 "metadata": {
  "colab": {
   "collapsed_sections": [
    "kbSNVGT-wNEA",
    "jeywS-O0wNF3",
    "1ShkEEfkwNGa",
    "DYrdJqICwNH-"
   ],
   "name": "Python x Excel 大數據分析實戰 (即時看板) .ipynb",
   "provenance": []
  },
  "kernelspec": {
   "display_name": "Python 3 (ipykernel)",
   "language": "python",
   "name": "python3"
  },
  "language_info": {
   "codemirror_mode": {
    "name": "ipython",
    "version": 3
   },
   "file_extension": ".py",
   "mimetype": "text/x-python",
   "name": "python",
   "nbconvert_exporter": "python",
   "pygments_lexer": "ipython3",
   "version": "3.11.5"
  },
  "vscode": {
   "interpreter": {
    "hash": "ad2bdc8ecc057115af97d19610ffacc2b4e99fae6737bb82f5d7fb13d2f2c186"
   }
  }
 },
 "nbformat": 4,
 "nbformat_minor": 1
}
