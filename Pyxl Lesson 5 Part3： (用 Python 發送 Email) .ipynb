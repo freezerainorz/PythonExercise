{
 "cells": [
  {
   "cell_type": "markdown",
   "metadata": {
    "colab_type": "text",
    "id": "2n0vh6XLWEZm"
   },
   "source": [
    "# 5.8 若需要處理的資料量若很多\n",
    "\n",
    "程式不會馬上跑完，此時我們就需要**通知使用者的功能**\n",
    "\n",
    "我們先來看要如何能夠用 Python 自動發送 Email\n",
    "\n",
    "這一個教材會介紹兩種方式：\n",
    "\n",
    "1. 用 Python 操作 Outlook 應用程式發送 Email\n",
    "2. 用 Python 透過 SMTP 模組發送 Email\n",
    "\n",
    "\n",
    "---\n",
    "# 5.8.1 用 Python 發送 Gmail\n",
    "\n",
    "1. 我們需要將Google的兩步驟驗證機制開啓：[連結](https://www.google.com/intl/zh-TW/landing/2step/#tab=how-it-works)\n",
    "\n",
    "\n",
    "2. 接下來我們需要一組 Google 的應用程式密碼 (App Password)：[應用程式密碼 簡介](https://support.google.com/mail/answer/185833?hl=zh-Hant)\n",
    "\n",
    "3. 請先連至 Google Account 的頁面：[申請連結](https://myaccount.google.com/)\n",
    "\n",
    "![](https://drive.google.com/uc?export=download&id=1dJ9-_Jjr1sj9eFYTY4EgM6TP9afUH0TG)\n",
    "\n",
    "![](https://drive.google.com/uc?export=download&id=1fW6XA2qAqJC2A-duZ9pZ6ymz9wWv4NPp)\n",
    "\n",
    "4. 申請應用程式密碼\n",
    "\n",
    "![](https://drive.google.com/uc?export=download&id=1_5NurnztXzuQ_-ejNA0HziWAGeSM5Y8b)\n",
    "\n",
    "5. 選擇 Mail\n",
    "\n",
    "![](https://drive.google.com/uc?export=download&id=15RkEP27tI56boLTMe7sjI-s0Kno7WI7z)\n",
    "\n",
    "6. 選擇 Others (透過程式發送)\n",
    "\n",
    "![](https://drive.google.com/uc?export=download&id=1cnRQkhRsA81IEAWadXtUiiCUZZ9Uuz-b)\n",
    "\n",
    "7. 輸入你的備注\n",
    "\n",
    "![](https://drive.google.com/uc?export=download&id=17RSbSW-6kaJZWU6OOG5brMZ944-lgcn1)\n",
    "\n",
    "8. 記下你申請到的應用程式密碼\n",
    "![](https://drive.google.com/uc?export=download&id=11G57l_IJlLQYR772Ub5A4SwUBdfVjxZy)\n",
    "\n"
   ]
  },
  {
   "cell_type": "markdown",
   "metadata": {
    "colab_type": "text",
    "id": "lxjq5CNdWEZq"
   },
   "source": [
    "## 5.8.2 如何用 Python 發送 Email?\n",
    "\n",
    "SMTP (簡單郵件傳輸協定)\n",
    "\n",
    "```python\n",
    "import smtplib\n",
    "# 連上 gmail 服務\n",
    "conn = smtplib.SMTP('smtp.gmail.com:587')\n",
    "```"
   ]
  },
  {
   "cell_type": "code",
   "execution_count": null,
   "metadata": {
    "colab": {},
    "colab_type": "code",
    "id": "mr6L60DcWEZs"
   },
   "outputs": [],
   "source": []
  },
  {
   "cell_type": "markdown",
   "metadata": {
    "colab_type": "text",
    "id": "DP6BD1MvWEZy"
   },
   "source": [
    "建立連線：\n",
    "\n",
    "```python\n",
    "import smtplib\n",
    "# 連上 gmail 服務\n",
    "conn = smtplib.SMTP('smtp.gmail.com:587')\n",
    "# 開啓連線\n",
    "conn.ehlo()\n",
    "# 加密連線\n",
    "conn.starttls()\n",
    "```"
   ]
  },
  {
   "cell_type": "code",
   "execution_count": null,
   "metadata": {
    "colab": {},
    "colab_type": "code",
    "id": "WT4bJvTmWEZz"
   },
   "outputs": [],
   "source": []
  },
  {
   "cell_type": "markdown",
   "metadata": {
    "colab_type": "text",
    "id": "zzSHi06FWEZ2"
   },
   "source": [
    "接下來就可以用 Python 登入 gmail\n",
    "\n",
    "```python\n",
    "conn.login('你的 email', '你的 Google 的通行碼')\n",
    "```"
   ]
  },
  {
   "cell_type": "code",
   "execution_count": null,
   "metadata": {
    "colab": {},
    "colab_type": "code",
    "id": "UdMFTbb_WEZ3"
   },
   "outputs": [],
   "source": []
  },
  {
   "cell_type": "markdown",
   "metadata": {
    "colab_type": "text",
    "id": "GVyLM7wEWEZ5"
   },
   "source": [
    "但是我們無法發送内文有中文字的 Email...\n",
    "\n",
    "修改一下我們的程式碼即可：\n",
    "```python\n",
    "import smtplib\n",
    "from email.mime.text import MIMEText\n",
    "\n",
    "sender = '寄件者 email'\n",
    "receiver = '收件者 email'\n",
    "content = '你好: \\n這是從 Python 發送出來的 Email, 啾咪！'\n",
    "\n",
    "msg = MIMEText(content.encode('utf-8'), _charset='utf-8')\n",
    "msg['Subject'] = 'Hello 你好'\n",
    "msg['From'] = sender\n",
    "msg['To'] = receiver\n",
    "\n",
    "conn = smtplib.SMTP('smtp.gmail.com:587')\n",
    "conn.ehlo()\n",
    "conn.starttls()\n",
    "conn.login('你的 Email', '你的 Google 應用程式密碼')\n",
    "conn.sendmail(sender,\n",
    "              receiver,\n",
    "              msg.as_string())\n",
    "\n",
    "conn.quit()\n",
    "```"
   ]
  },
  {
   "cell_type": "code",
   "execution_count": null,
   "metadata": {},
   "outputs": [],
   "source": []
  },
  {
   "cell_type": "markdown",
   "metadata": {
    "colab_type": "text",
    "id": "rmptgLoTWEaA"
   },
   "source": [
    "爲了精簡我們的程式碼，可以將發送 Email 的功能整理成一個函數：\n",
    "\n",
    "```python\n",
    "import smtplib\n",
    "from email.mime.text import MIMEText\n",
    "\n",
    "def send_gmail(msg, sender_mail, receiver_mail, app_pass):\n",
    "    sender = sender_mail\n",
    "    receiver = receiver_mail\n",
    "    content = msg\n",
    "\n",
    "    msg = MIMEText(content.encode('utf-8'), _charset='utf-8')\n",
    "    msg['Subject'] = 'Hello 你好'\n",
    "    msg['From'] = sender\n",
    "    msg['To'] = receiver\n",
    "\n",
    "    conn = smtplib.SMTP('smtp.gmail.com:587')\n",
    "    conn.ehlo()\n",
    "    conn.starttls()\n",
    "    conn.login(sender_mail, app_pass)\n",
    "    conn.sendmail(sender,\n",
    "                receiver,\n",
    "                msg.as_string())\n",
    "\n",
    "    conn.quit()\n",
    "    return\n",
    "\n",
    "send_gmail(\"Hello from PyXL!\", \"寄件者 email\", \"收件者 email\", \"你的 Google 應用程式密碼\")\n",
    "```"
   ]
  },
  {
   "cell_type": "code",
   "execution_count": null,
   "metadata": {
    "colab": {},
    "colab_type": "code",
    "id": "ZbyeFQQBWEaD"
   },
   "outputs": [],
   "source": []
  },
  {
   "cell_type": "markdown",
   "metadata": {},
   "source": [
    "# 5.9 用 Outlook 發送 Email（限 Windows OS）\n",
    "\n",
    "我們見識到了用 `STMP` 發送 Email，程式碼十分複雜，撰寫十分困難。\n",
    "\n",
    "此時有另外一種透過程式發送 Email 的方法，就是使用 Python 操作 Outlook。\n",
    "\n",
    "接下來和各位介紹 `win32com` 模組：[連結](http://timgolden.me.uk/pywin32-docs/contents.html)\n",
    "\n",
    "`win32com` 模組是 Windows 的 API，允許使用者透過 Python 操作 Windows OS 以及應用程式相關的功能：\n",
    "\n",
    "```python\n",
    "import win32com.client\n",
    "```"
   ]
  },
  {
   "cell_type": "code",
   "execution_count": null,
   "metadata": {},
   "outputs": [],
   "source": [
    "import win32com.client"
   ]
  },
  {
   "cell_type": "markdown",
   "metadata": {},
   "source": [
    "開啓 `outlook`：\n",
    "\n",
    "```python\n",
    "outlook = win32com.client.Dispatch('outlook.application')\n",
    "```"
   ]
  },
  {
   "cell_type": "code",
   "execution_count": null,
   "metadata": {},
   "outputs": [],
   "source": []
  },
  {
   "cell_type": "markdown",
   "metadata": {},
   "source": [
    "開啓 `outlook` 應用程式之後，建立一個新的 Email 物件：\n",
    "\n",
    "```python\n",
    "mail = outlook.CreateItem(0)\n",
    "```"
   ]
  },
  {
   "cell_type": "code",
   "execution_count": null,
   "metadata": {},
   "outputs": [],
   "source": []
  },
  {
   "cell_type": "markdown",
   "metadata": {},
   "source": [
    "我們來設定一些參數：\n",
    "\n",
    "```python\n",
    "# 收件人的 Email\n",
    "mail.To = \"你的 Email\"\n",
    "# Email 的標題\n",
    "mail.Subject = \"PyXL 機器人\"\n",
    "# Email 的本文\n",
    "mail.Body = \"這是 PyXL 測試！\"\n",
    "```"
   ]
  },
  {
   "cell_type": "code",
   "execution_count": null,
   "metadata": {},
   "outputs": [],
   "source": []
  },
  {
   "cell_type": "markdown",
   "metadata": {},
   "source": [
    "發送 Email：\n",
    "\n",
    "```python\n",
    "mail.Send()\n",
    "```"
   ]
  },
  {
   "cell_type": "code",
   "execution_count": null,
   "metadata": {},
   "outputs": [],
   "source": []
  },
  {
   "cell_type": "markdown",
   "metadata": {},
   "source": [
    "若要排版本文：\n",
    "\n",
    "```python\n",
    "mail.HTMLBody = '<h3>This is HTML Body</h3>'\n",
    "```"
   ]
  },
  {
   "cell_type": "code",
   "execution_count": null,
   "metadata": {},
   "outputs": [],
   "source": []
  },
  {
   "cell_type": "markdown",
   "metadata": {},
   "source": [
    "若要附件：\n",
    "\n",
    "```python\n",
    "mail.Attachments.Add(r\"C:\\附件檔案路徑\")\n",
    "```\n",
    "\n",
    "完整版程式碼：\n",
    "\n",
    "```python\n",
    "import win32com.client\n",
    "\n",
    "outlook = win32com.client.Dispatch('outlook.application')\n",
    "mail = outlook.CreateItem(0)\n",
    "mail.To = \"你的 Email\"\n",
    "mail.Subject = \"PyXL 機器人\"\n",
    "mail.HTMLBody = \"<h3>這是 PyXL 測試！</h3>\"\n",
    "mail.Attachments.Add(r\"C:\\附件檔案路徑\")\n",
    "mail.Send()\n",
    "```"
   ]
  },
  {
   "cell_type": "code",
   "execution_count": null,
   "metadata": {},
   "outputs": [],
   "source": []
  }
 ],
 "metadata": {
  "colab": {
   "name": "Python x Excel 大數據分析實戰 (用 Python 發送 Email) .ipynb",
   "provenance": []
  },
  "kernelspec": {
   "display_name": "Python 3 (ipykernel)",
   "language": "python",
   "name": "python3"
  },
  "language_info": {
   "codemirror_mode": {
    "name": "ipython",
    "version": 3
   },
   "file_extension": ".py",
   "mimetype": "text/x-python",
   "name": "python",
   "nbconvert_exporter": "python",
   "pygments_lexer": "ipython3",
   "version": "3.11.5"
  },
  "vscode": {
   "interpreter": {
    "hash": "ad2bdc8ecc057115af97d19610ffacc2b4e99fae6737bb82f5d7fb13d2f2c186"
   }
  }
 },
 "nbformat": 4,
 "nbformat_minor": 1
}
