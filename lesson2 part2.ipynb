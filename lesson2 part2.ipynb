{
 "cells": [
  {
   "cell_type": "code",
   "execution_count": null,
   "id": "23f2abb7",
   "metadata": {},
   "outputs": [],
   "source": [
    "#excel定義名稱 可以簡化使用$符號，選取範圍右鍵定義名稱\n",
    "#excel =IF(X1>X2,1000,0) 如果X1>X2,寫1000\n",
    "#excel =IF(AND(X1>X2,X1*1000<=X0),1000,0) 如果X1>X2且X1*1000<=X0,寫1000\n",
    "#complicated excel formula use ctrl+shift+enter"
   ]
  },
  {
   "cell_type": "code",
   "execution_count": 125,
   "id": "d82bee2e",
   "metadata": {},
   "outputs": [],
   "source": [
    "import xlwings as xw\n",
    "from xlwings.constants import Direction\n",
    "wb = xw.Book(r\"tsmc_back_test.xlsx\")\n",
    "sheet = wb.sheets[\"2330\"]\n",
    "\n",
    "# 實作交易策略\n",
    "for i in range(12, last_row+1):\n",
    "    today_price = sheet.range(f\"B{i}\").value\n",
    "    short_term_ma = sheet.range(f\"C{i}\").value\n",
    "    long_term_ma = sheet.range(f\"D{i}\").value\n",
    "    if (short_term_ma > long_term_ma) and (sheet.range(f\"H{i-1}\").value > today_price * 1000):\n",
    "        sheet.range(f\"E{i}\").value = 1000\n",
    "    else:\n",
    "        sheet.range(f\"E{i}\").value = 0\n",
    "    \n",
    "    if (long_term_ma > short_term_ma) and (sheet.range(f\"G{i-1}\").value >= 1000):\n",
    "        sheet.range(f\"F{i}\").value = 1000\n",
    "    else:\n",
    "        sheet.range(f\"F{i}\").value = 0\n",
    "    sheet.range(f\"G{i}\").value = sheet.range(f\"G{i-1}\").value + sheet.range(f\"E{i}\").value - sheet.range(f\"F{i}\").value\n",
    "    sheet.range(f\"H{i}\").value = sheet.range(f\"H{i-1}\").value + (sheet.range(f\"F{i}\").value - sheet.range(f\"E{i}\").value) * today_price \n",
    "    sheet.range(f\"I{i}\").value = sheet.range(f\"H{i}\").value + sheet.range(f\"G{i}\").value * today_price \n",
    "    \n",
    "sheet.range(\"L20\").value = sheet.range(f\"I{last_row}\").value - sheet.range(\"L18\").value"
   ]
  },
  {
   "cell_type": "code",
   "execution_count": null,
   "id": "31acc25f",
   "metadata": {},
   "outputs": [],
   "source": []
  }
 ],
 "metadata": {
  "kernelspec": {
   "display_name": "Python 3 (ipykernel)",
   "language": "python",
   "name": "python3"
  },
  "language_info": {
   "codemirror_mode": {
    "name": "ipython",
    "version": 3
   },
   "file_extension": ".py",
   "mimetype": "text/x-python",
   "name": "python",
   "nbconvert_exporter": "python",
   "pygments_lexer": "ipython3",
   "version": "3.11.5"
  }
 },
 "nbformat": 4,
 "nbformat_minor": 5
}
