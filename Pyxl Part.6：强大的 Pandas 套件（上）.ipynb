{
 "cells": [
  {
   "cell_type": "markdown",
   "metadata": {
    "colab_type": "text",
    "id": "6r86jx82xjpx"
   },
   "source": [
    "# 6.1 用 Python 作資料分析\n",
    "\n",
    "在之前的課程，我們學會了如何利用 Python 這個語言，針對 Excel 做出了許多自動化的功能與解決方案。\n",
    "\n",
    "我們也學會了打造網頁爬蟲，自動的搜集大量的資料，當我們的程式開始不停的運作，每天持續的搜集資料時，接下來我們需要學會的，是如何能夠處理以及分析我們手上的資料。\n",
    "\n",
    "# 6.2 Pandas 簡介\n",
    "\n",
    "接下來我們來研究一下 Pandas 套件，Pandas 套件提提供了以下資料結構，讓使用者能夠用直覺的語法來處理資料，提供靈活直觀的資料結構來處理關聯數據和有標籤的數據，Pandas 套件提提供了以下資料結構：\n",
    "\n",
    "| 名稱 | 描述 |\n",
    "|:--:|:------:|\n",
    "| Series | 可以建立索引的一維陣列       |\n",
    "| DataFrame | 有列索引與欄標籤的二維資料集 |\n",
    "| Panel | 有資料集索引、列索引與欄標籤的三維資料集 |\n",
    "\n",
    "除非領域特殊，否則一般的資料都是以一維或二維爲主。因此從**實務的角度來看，在學習 Pandas 時，我們應該先將時間與重點重點集中在 Series 以及 DataFrame 上。**\n",
    "\n",
    "\n",
    "**備注：本教材由張佑成編寫，版權所有，翻印必究**"
   ]
  },
  {
   "cell_type": "markdown",
   "metadata": {},
   "source": [
    "# 6.2.1 Pandas 齊步走\n",
    "\n",
    "首先我們用 `import` 引入 pandas，一般慣例上會將它重新命名成 `pd`: \n",
    "\n",
    "```python\n",
    "import pandas as pd\n",
    "```"
   ]
  },
  {
   "cell_type": "code",
   "execution_count": null,
   "metadata": {
    "colab": {},
    "colab_type": "code",
    "id": "Ch34CnbbxjqC"
   },
   "outputs": [],
   "source": []
  },
  {
   "cell_type": "markdown",
   "metadata": {
    "colab_type": "text",
    "id": "JVrYPlSfxjqb"
   },
   "source": [
    "# 6.3 Series 資料結構\n",
    "\n",
    "簡單來說，是一個封裝多筆、一維資料的容器。我們可以把 Series 想象成 Excel 工作表上的一欄資料。\n",
    "\n",
    "# 6.3.1 建立一個 Series\n",
    "\n",
    "首先我們來嘗試建立一個 Series：\n",
    "\n",
    "```python\n",
    "ser1 = pd.Series([1,2,3,4,5])\n",
    "print(ser1)\n",
    "```\n"
   ]
  },
  {
   "cell_type": "code",
   "execution_count": null,
   "metadata": {
    "colab": {},
    "colab_type": "code",
    "id": "p8w72jH2xjqi"
   },
   "outputs": [],
   "source": []
  },
  {
   "cell_type": "markdown",
   "metadata": {
    "colab_type": "text",
    "id": "aRvRNJw4xjqr"
   },
   "source": [
    "當我們將一個 Series 印出來，就會發現一個 Series 有兩欄數字（columns）。左邊的一欄呈現 0 到 4，就是索引值，相對的，右邊的一欄呈現 1 到 5，也就是實際的資料。其實一個 Series 是由一組**標籤(Index)** 與一組**值(Values)** 組成。"
   ]
  },
  {
   "cell_type": "code",
   "execution_count": null,
   "metadata": {},
   "outputs": [],
   "source": []
  },
  {
   "cell_type": "markdown",
   "metadata": {
    "colab_type": "text",
    "id": "zT1JIhk5xjq0"
   },
   "source": [
    "# 6.3.2 自定索引值\n",
    "\n",
    "Series 最厲害的一個功能在於，使用者可以自由的定義索引值，這樣使用者就能夠使用預設的數字索引值以外的方法，去操作 Series 内的資料。\n",
    "\n",
    "我們嘗試將一個裝滿字串的 List 指定給 index 參數：\n",
    "\n",
    "\n",
    "```python\n",
    "ser1 = pd.Series([1,2,3,4,5], index=[\"a\",\"b\",\"c\",\"d\",\"e\"])\n",
    "print(ser1)\n",
    "```"
   ]
  },
  {
   "cell_type": "code",
   "execution_count": null,
   "metadata": {},
   "outputs": [],
   "source": []
  },
  {
   "cell_type": "code",
   "execution_count": null,
   "metadata": {},
   "outputs": [],
   "source": []
  },
  {
   "cell_type": "markdown",
   "metadata": {
    "colab_type": "text",
    "id": "98jUmPF3xjrA"
   },
   "source": [
    "接下來我們就發現，Series 的每一筆資料的索引都會被指派一個獨特的標籤。\n",
    "\n",
    "\n",
    "剛才的 series 若從 Excel 的角度來看，可以理解成是：\n",
    "\n",
    "![](https://drive.google.com/uc?export=download&id=17UNUvFUakSQIYmzeQT4Jpdf1L-K0RYY3)\n",
    "\n"
   ]
  },
  {
   "cell_type": "markdown",
   "metadata": {
    "colab_type": "text",
    "id": "XYLT3B01xjtO"
   },
   "source": [
    "# 6.3.3 透過字典宣告 Series\n",
    "\n",
    "我們也可以透過直接傳入一個字典的方式來建立 Series：\n",
    "\n",
    "```python\n",
    "data = {\n",
    "    \"a\": 1,\n",
    "    \"b\": 2,\n",
    "    \"c\": 3,\n",
    "    \"d\": 4,\n",
    "    \"e\": 5\n",
    "}\n",
    "\n",
    "ser1 = pd.Series(data)\n",
    "print(ser1)\n",
    "```"
   ]
  },
  {
   "cell_type": "code",
   "execution_count": null,
   "metadata": {
    "colab": {},
    "colab_type": "code",
    "id": "XlRitR73xjtP"
   },
   "outputs": [],
   "source": []
  },
  {
   "cell_type": "markdown",
   "metadata": {},
   "source": [
    "Pandas 會將字典内的 key 當作 Series 的標籤，而 values 則會成爲實際的資料值。"
   ]
  },
  {
   "cell_type": "markdown",
   "metadata": {
    "colab_type": "text",
    "id": "JDgPPUMCxjrg"
   },
   "source": [
    "# 6.4.1 讀取序列内的資料\n",
    "\n",
    "可以使用 iloc 方法：\n",
    "\n",
    "```python\n",
    "ser1.iloc[0]\n",
    "```"
   ]
  },
  {
   "cell_type": "code",
   "execution_count": null,
   "metadata": {
    "colab": {},
    "colab_type": "code",
    "id": "P0qbC79Bxjrj"
   },
   "outputs": [],
   "source": []
  },
  {
   "cell_type": "markdown",
   "metadata": {
    "colab_type": "text",
    "id": "LiMVSJLKxjrr"
   },
   "source": [
    "# 6.4.2 切片序列内的資料\n",
    "\n",
    "如同 List，Series 也支援的切片的功能：\n",
    "\n",
    "```python\n",
    "ser.iloc[索引值起點：索引值結束點]\n",
    "```\n",
    "\n",
    "與串列的切片方式一樣\n",
    "\n",
    "請輸入：\n",
    "\n",
    "```python\n",
    "ser1.iloc[0:3]\n",
    "```"
   ]
  },
  {
   "cell_type": "code",
   "execution_count": null,
   "metadata": {
    "colab": {},
    "colab_type": "code",
    "id": "xbGmjSLpxjrt",
    "scrolled": false
   },
   "outputs": [],
   "source": []
  },
  {
   "cell_type": "markdown",
   "metadata": {
    "colab_type": "text",
    "id": "JUx-gEUexjsS"
   },
   "source": [
    "提取多筆不連續的資料也可以透過指定多筆數字的**索引值**：\n",
    "\n",
    "```python\n",
    "ser1.iloc[[0, 3, 4]]\n",
    "```"
   ]
  },
  {
   "cell_type": "code",
   "execution_count": null,
   "metadata": {
    "colab": {},
    "colab_type": "code",
    "id": "mmoOwlgCxjsU",
    "scrolled": false
   },
   "outputs": [],
   "source": []
  },
  {
   "cell_type": "markdown",
   "metadata": {
    "colab_type": "text",
    "id": "Iv5X-M1kxjrx"
   },
   "source": [
    "# 6.4.3 透過標籤提取 Series 内的資料\n",
    "\n",
    "另一種讀取序列資料的方式\n",
    "\n",
    "`loc` 方法：\n",
    "\n",
    "```python\n",
    "ser1.loc[\"a\"]\n",
    "```"
   ]
  },
  {
   "cell_type": "code",
   "execution_count": null,
   "metadata": {
    "colab": {},
    "colab_type": "code",
    "id": "qWP7-h_oxjry"
   },
   "outputs": [],
   "source": []
  },
  {
   "cell_type": "markdown",
   "metadata": {
    "colab_type": "text",
    "id": "LcTARUvexjr3"
   },
   "source": [
    "我們也可以透過自定的索引進行切片：\n",
    "\n",
    "```python\n",
    "ser1.loc[\"a\":\"c\"]\n",
    "```"
   ]
  },
  {
   "cell_type": "code",
   "execution_count": null,
   "metadata": {
    "colab": {},
    "colab_type": "code",
    "id": "5Yj5MVyExjr5"
   },
   "outputs": [],
   "source": []
  },
  {
   "cell_type": "markdown",
   "metadata": {
    "colab_type": "text",
    "id": "Uk-h1TnpxjsJ"
   },
   "source": [
    "需要注意的是，和用索引值切片不一樣的是，用自訂標籤切片**會包含結束點自己**。\n",
    "\n",
    "提取多筆**不連續**的資料，可以透過指定多個標籤，並將標籤放入 List 内：\n",
    "\n",
    "```python\n",
    "ser1.loc[[\"a\", \"d\", \"e\"]]\n",
    "```"
   ]
  },
  {
   "cell_type": "code",
   "execution_count": null,
   "metadata": {
    "colab": {},
    "colab_type": "code",
    "id": "CKunCBYCxjsL"
   },
   "outputs": [],
   "source": []
  },
  {
   "cell_type": "markdown",
   "metadata": {},
   "source": [
    "需要注意的是，Series 使用者可以自由指定**標籤**，並且利用自訂標籤針對 Series 進行操作，這點與字典這個資料結構十分類似。\n",
    "另外，細心的讀者可能會發現，我們能夠利用自訂標籤對 Series 進行切片，這是字典不具備的功能，因此我們可以把 Series 看作是一個有序的字典，它同時兼備了 List 與 Dict 的優點。"
   ]
  },
  {
   "cell_type": "markdown",
   "metadata": {
    "colab_type": "text",
    "id": "_YmS26Wxxjsw"
   },
   "source": [
    "# 6.5.1  更新 Series 的資料\n",
    "\n",
    "\n",
    "```python\n",
    "ser1.loc[\"a\"] = 8\n",
    "print(ser1)\n",
    "```"
   ]
  },
  {
   "cell_type": "code",
   "execution_count": null,
   "metadata": {
    "colab": {},
    "colab_type": "code",
    "id": "O0ljrZ3gxjsx"
   },
   "outputs": [],
   "source": []
  },
  {
   "cell_type": "markdown",
   "metadata": {
    "colab_type": "text",
    "id": "Duz8UWKjxjs1"
   },
   "source": [
    "# 6.5.2  更新 Series 内多筆資料\n",
    "\n",
    "```python\n",
    "ser1.loc[\"b\":\"d\"] = [9, 10, 11]\n",
    "print(ser1)\n",
    "```"
   ]
  },
  {
   "cell_type": "code",
   "execution_count": null,
   "metadata": {
    "colab": {},
    "colab_type": "code",
    "id": "HRHH0B01xjs2"
   },
   "outputs": [],
   "source": []
  },
  {
   "cell_type": "markdown",
   "metadata": {
    "colab_type": "text",
    "id": "3lgEv3auxjs8"
   },
   "source": [
    "# 6.6.1 刪除 Series 内的資料\n",
    "\n",
    "我們可以透過索引值刪除單筆資料：\n",
    "\n",
    "```python\n",
    "ser1.drop(ser1.index[0])\n",
    "```"
   ]
  },
  {
   "cell_type": "code",
   "execution_count": null,
   "metadata": {},
   "outputs": [],
   "source": []
  },
  {
   "cell_type": "markdown",
   "metadata": {
    "colab_type": "text",
    "id": "r6IY3U1OxjtF"
   },
   "source": [
    "同樣的效果也可以透過標籤實作：\n",
    "\n",
    "```python\n",
    "ser1.drop(labels=[\"a\"])\n",
    "```\n",
    "\n"
   ]
  },
  {
   "cell_type": "code",
   "execution_count": null,
   "metadata": {
    "colab": {},
    "colab_type": "code",
    "id": "dH_VjwdqxjtA"
   },
   "outputs": [],
   "source": []
  },
  {
   "cell_type": "markdown",
   "metadata": {},
   "source": [
    "若要刪除多筆 Series 内的資料，可以透過索引值：\n",
    "\n",
    "```python\n",
    "ser1.drop(ser1.index[[1,2,3]])\n",
    "```"
   ]
  },
  {
   "cell_type": "code",
   "execution_count": null,
   "metadata": {},
   "outputs": [],
   "source": []
  },
  {
   "cell_type": "markdown",
   "metadata": {
    "colab": {},
    "colab_type": "code",
    "id": "Skg4v3yMxjtH"
   },
   "source": [
    "或是標籤：\n",
    "\n",
    "```python\n",
    "ser1.drop(labels=[\"b\", \"c\", \"d\"])\n",
    "```"
   ]
  },
  {
   "cell_type": "markdown",
   "metadata": {
    "colab_type": "text",
    "id": "Zc1NDyuhxjuU"
   },
   "source": [
    "# 6.7 Series 的逐元素運算\n",
    "\n",
    "今天若需要將 Series 内的每一筆資料做一樣的處理，好比説乘以 2：\n",
    "\n",
    "```python\n",
    "ser1 = pd.Series([1,2,3,4,5], index=[\"a\",\"b\",\"c\",\"d\",\"e\"])\n",
    "print(ser1 * 2)\n",
    "```\n"
   ]
  },
  {
   "cell_type": "code",
   "execution_count": null,
   "metadata": {
    "colab": {},
    "colab_type": "code",
    "id": "evAAkzxyxjuW"
   },
   "outputs": [],
   "source": []
  },
  {
   "cell_type": "markdown",
   "metadata": {},
   "source": [
    "用 Excel 的角度來理解，等同於是使用陣列公式針對整欄的資料做運算：\n",
    "\n",
    "![](https://drive.google.com/uc?export=download&id=1iAa3RW3WsQQH_iM_lGEtnq5e7jISwrXL)"
   ]
  },
  {
   "cell_type": "markdown",
   "metadata": {
    "colab_type": "text",
    "id": "bnUHckIBxjud"
   },
   "source": [
    "# 6.8 過濾 Series 内的資料\n"
   ]
  },
  {
   "cell_type": "markdown",
   "metadata": {},
   "source": [
    "讓每一筆資料都去和 3 做比較：\n",
    "\n",
    "```python\n",
    "print(ser1 > 3)\n",
    "```"
   ]
  },
  {
   "cell_type": "code",
   "execution_count": null,
   "metadata": {
    "colab": {},
    "colab_type": "code",
    "id": "404Jva43xjuf"
   },
   "outputs": [],
   "source": []
  },
  {
   "cell_type": "markdown",
   "metadata": {},
   "source": [
    "注意當我們針對一個 Series 進行比較時，運算結果會是一個裝滿布林值的 Series，代表 Series 内的每一筆資料與 3 做比較的結果。\n",
    "\n",
    "\n",
    "用 Excel 的角度來解釋：\n",
    "\n",
    "![](https://drive.google.com/uc?export=download&id=1oqg-d-C6fmZb9_s8aZzfPFny8Iq1MwFy)"
   ]
  },
  {
   "cell_type": "markdown",
   "metadata": {
    "colab_type": "text",
    "id": "R7tKHhopxjul"
   },
   "source": [
    "接下來我們可以利用這個裝滿布林值的 Series 過濾出符合條件的資料：\n",
    "\n",
    "```python\n",
    "ser1[ser1 > 3]\n",
    "```"
   ]
  },
  {
   "cell_type": "code",
   "execution_count": null,
   "metadata": {
    "colab": {},
    "colab_type": "code",
    "id": "Lz9kWExwxjun",
    "scrolled": true
   },
   "outputs": [],
   "source": []
  },
  {
   "cell_type": "markdown",
   "metadata": {},
   "source": [
    "可以想象成把**比較結果為 True 的資料切片出來**。"
   ]
  },
  {
   "cell_type": "markdown",
   "metadata": {
    "colab_type": "text",
    "id": "Pms8SlcxxjsX"
   },
   "source": [
    "# 6.9 Series 一些常用的功能\n",
    "\n",
    "計算 Series 内所有資料的加總：\n",
    "\n",
    "```python\n",
    "ser1.sum()\n",
    "```"
   ]
  },
  {
   "cell_type": "code",
   "execution_count": null,
   "metadata": {},
   "outputs": [],
   "source": []
  },
  {
   "cell_type": "markdown",
   "metadata": {},
   "source": [
    "查詢最大值：\n",
    "\n",
    "```python\n",
    "ser1.max()\n",
    "```"
   ]
  },
  {
   "cell_type": "code",
   "execution_count": null,
   "metadata": {},
   "outputs": [],
   "source": []
  },
  {
   "cell_type": "markdown",
   "metadata": {},
   "source": [
    "查詢最小值：\n",
    "\n",
    "```python\n",
    "ser1.min()\n",
    "```"
   ]
  },
  {
   "cell_type": "code",
   "execution_count": null,
   "metadata": {},
   "outputs": [],
   "source": []
  },
  {
   "cell_type": "markdown",
   "metadata": {},
   "source": [
    "計算平均值：\n",
    "\n",
    "```python\n",
    "ser1.mean()\n",
    "```\n"
   ]
  },
  {
   "cell_type": "code",
   "execution_count": null,
   "metadata": {},
   "outputs": [],
   "source": []
  },
  {
   "cell_type": "markdown",
   "metadata": {},
   "source": [
    "計算標準差：\n",
    "\n",
    "```python\n",
    "ser1.std()\n",
    "```"
   ]
  },
  {
   "cell_type": "code",
   "execution_count": null,
   "metadata": {},
   "outputs": [],
   "source": []
  },
  {
   "cell_type": "markdown",
   "metadata": {
    "colab_type": "text",
    "id": "Z9n1hFzQxju7"
   },
   "source": [
    "# 6.10 DataFrame 資料結構\n",
    "\n",
    "DataFrame 是一個表格型資料結構，也是 Pandas 套件使用頻率最高的資料結構，各位讀者可以把 DataFrame 想像成是一個**虛擬的 Excel 試算表**，許多 Excel 支援的功能，在 DataFrame 上都有相對應的功能。\n",
    "\n",
    "\n",
    "- 實際上是由多個 Series 組合起來的資料結構\n",
    "- 適用於封裝/處理二維的資料\n",
    "\n",
    "\n",
    "# 6.11 建立 DataFrame\n",
    "\n",
    "```python\n",
    "data = {\n",
    "    \"string\": [\"abc\",\"def\",\"ghi\",\"jkl\"],\n",
    "    \"number\": [48, 100, 34, 49],\n",
    "    \"boolean\": [True, False, False, True]\n",
    "}\n",
    "\n",
    "df = pd.DataFrame(data)\n",
    "print(df)\n",
    "```"
   ]
  },
  {
   "cell_type": "code",
   "execution_count": null,
   "metadata": {
    "colab": {},
    "colab_type": "code",
    "id": "8pkFmQEqxju8"
   },
   "outputs": [],
   "source": []
  },
  {
   "cell_type": "markdown",
   "metadata": {},
   "source": [
    "從 Excel 的角度來理解，等同於是在工作表上輸入了字典内的資料：\n",
    "\n",
    "![](https://drive.google.com/uc?export=download&id=1iDkXpd6-JRYkU0CGm2WC9YL_vwyqXjAg)"
   ]
  },
  {
   "cell_type": "markdown",
   "metadata": {
    "colab_type": "text",
    "id": "R4FHomHRxjvT"
   },
   "source": [
    "# 6.12 讀取 DataFrame 的資料\n",
    "\n",
    "若要將 DataFrame 上其中一欄的資料讀取出來，可以使用該欄的表頭：\n",
    "\n",
    "```python\n",
    "df[\"number\"]\n",
    "```"
   ]
  },
  {
   "cell_type": "code",
   "execution_count": null,
   "metadata": {},
   "outputs": [],
   "source": []
  },
  {
   "cell_type": "markdown",
   "metadata": {},
   "source": [
    "![](https://drive.google.com/uc?export=download&id=1TN-YMTMBKEkaGhW-XsP7z_3jn2HVyhZp)"
   ]
  },
  {
   "cell_type": "markdown",
   "metadata": {},
   "source": [
    "若要將其中一列讀取出來：\n",
    "\n",
    "```python\n",
    "df.iloc[1]\n",
    "```"
   ]
  },
  {
   "cell_type": "code",
   "execution_count": null,
   "metadata": {},
   "outputs": [],
   "source": []
  },
  {
   "cell_type": "markdown",
   "metadata": {},
   "source": [
    "![](https://drive.google.com/uc?export=download&id=1O6bxk2V-6zfLvu5PyiWm9vj1q14w7Swz)"
   ]
  },
  {
   "cell_type": "markdown",
   "metadata": {},
   "source": [
    "從上述的資料可以發現，DataFrame 的每一欄或列都是一個獨立的 Series。"
   ]
  },
  {
   "cell_type": "markdown",
   "metadata": {
    "colab_type": "text",
    "id": "fhizv5bLxjvh"
   },
   "source": [
    "# 6.13 切片 DataFrame 的資料\n",
    "\n",
    "由於 DataFrame 是封裝二維的資料，因此在切片時需要注意是針對哪一個維度做切片，若今天要切片多欄的資料：\n",
    "\n",
    "```python\n",
    "print(df.loc[:, \"number\":\"boolean\"])\n",
    "```"
   ]
  },
  {
   "cell_type": "code",
   "execution_count": null,
   "metadata": {},
   "outputs": [],
   "source": []
  },
  {
   "cell_type": "markdown",
   "metadata": {},
   "source": [
    "切片多列的資料：\n",
    "\n",
    "```python\n",
    "print(df.loc[1:3])\n",
    "```"
   ]
  },
  {
   "cell_type": "code",
   "execution_count": null,
   "metadata": {
    "scrolled": false
   },
   "outputs": [],
   "source": []
  },
  {
   "cell_type": "markdown",
   "metadata": {},
   "source": [
    "同時針對兩個方向做切片：\n",
    "\n",
    "```python\n",
    "print(df.loc[1:3, \"number\":\"boolean\"])\n",
    "```"
   ]
  },
  {
   "cell_type": "code",
   "execution_count": null,
   "metadata": {},
   "outputs": [],
   "source": [
    "#顯示全部列df.loc[:, \"number\":\"boolean\"]"
   ]
  },
  {
   "cell_type": "markdown",
   "metadata": {},
   "source": [
    "![](https://drive.google.com/uc?export=download&id=1Jkp_H_72YJXcZKTkpMh40hNlHxRAxs6_)"
   ]
  },
  {
   "cell_type": "markdown",
   "metadata": {},
   "source": [
    "# 6.14 DataFrame 的運算\n",
    "\n",
    "接下來我們希望能夠把 `number` 這一欄的每一筆資料加 `2`：\n",
    "\n",
    "```python\n",
    "df[\"number\"] + 2\n",
    "```"
   ]
  },
  {
   "cell_type": "code",
   "execution_count": null,
   "metadata": {},
   "outputs": [],
   "source": []
  },
  {
   "cell_type": "markdown",
   "metadata": {},
   "source": [
    "上述程式碼可以理解成，選擇 DataFrame 上表頭為 `number` 的一欄，將欄内的每一筆資料加上 `2`。\n",
    "\n",
    "\n",
    "最後，若要將計算好的結果寫回 DataFrame，語法和字典一樣：\n",
    "\n",
    "```python\n",
    "df[\"number+2\"] = df[\"number\"] + 2\n",
    "print(df)\n",
    "```"
   ]
  },
  {
   "cell_type": "code",
   "execution_count": null,
   "metadata": {},
   "outputs": [],
   "source": []
  },
  {
   "cell_type": "markdown",
   "metadata": {
    "colab_type": "text",
    "id": "jtPIR11Uxjvo"
   },
   "source": [
    "# 6.15 過濾 DataFrame 的資料\n",
    "\n",
    "過濾 DataFrame 内的資料與過濾 Excel 工作表上的資料在邏輯上一樣，都是根據某一欄資料的值做篩選。因此要過濾 DataFrame 上的資料，我們需要先透過表頭選擇我們想操作的欄位，並且寫出比較條件。\n",
    "\n",
    "舉例來説，若需要過濾出 `number` 這一欄大於 `40` 的資料：\n",
    "\n",
    "```python\n",
    "df[\"number\"] > 40\n",
    "```"
   ]
  },
  {
   "cell_type": "code",
   "execution_count": null,
   "metadata": {
    "colab": {},
    "colab_type": "code",
    "id": "kbv8trfXxjvy"
   },
   "outputs": [],
   "source": []
  },
  {
   "cell_type": "markdown",
   "metadata": {},
   "source": [
    "由於 DataFrame 的每一欄都是一個 Series，我們將 Series 内的每一筆資料與 `40` 作比較，得到了一個裝滿布林值的 Series。\n",
    "\n",
    "\n"
   ]
  },
  {
   "cell_type": "markdown",
   "metadata": {},
   "source": [
    "接下來我們可以利用此 Series 對 DataFrame 進行過濾：\n",
    "\n",
    "```python\n",
    "print(df[df[\"number\"] > 40])\n",
    "```"
   ]
  },
  {
   "cell_type": "code",
   "execution_count": null,
   "metadata": {},
   "outputs": [],
   "source": []
  },
  {
   "cell_type": "markdown",
   "metadata": {},
   "source": [
    "與過濾 Series 内的資料一樣，可以想象成把比較結果為 True 的資料列從 DataFrame 中切片出來。"
   ]
  },
  {
   "cell_type": "markdown",
   "metadata": {
    "colab_type": "text",
    "id": "kgw1wV10xjv0"
   },
   "source": [
    "# 6.16 Pandas 實戰專題：將多個工作表的資料合併\n",
    "\n",
    "接下來我們來嘗試將 Pandas 投入到實戰，來解決一個常見的問題，將多個不同工作表的資料拼接起來。\n",
    "\n",
    "假設一個 Excel 活頁簿内的每一個工作表個別記錄了 2020 年，不同月份的臺積電交易資料：\n",
    "\n",
    "![](https://drive.google.com/uc?export=download&id=1_wCI2O4CnNZcp7sZ0nb9S2UYA0nqelds)\n",
    "\n",
    "爲了方便計算資料，我們希望將多個不同月份的資料依照順序合併起來成爲一整年的歷史資料：\n",
    "\n",
    "![](https://drive.google.com/uc?export=download&id=1rTR7jYtRwIgEkSh0aCF4ODYNz2ZjF7_u)\n",
    "\n",
    "如上圖所顯示，我們希望能夠做到**縱向合併。**\n",
    "\n",
    "最後，我們利用拼接好的歷史資料計算出整年的每日報酬率以及三日移動平均，最後再將計算好的結果輸出至一個新的工作表上。\n",
    "\n",
    "\n",
    "\n",
    "要完成上述功能，程式的流程大致如下：\n",
    "\n",
    "1. 將每一個工作表内的資料匯入至一個 DataFrame\n",
    "2. 合併多個不同月份的資料，\n",
    "3. 計算整年的每日報酬率\n",
    "4. 將計算好的資料匯出至 Excel 檔案\n",
    "\n"
   ]
  },
  {
   "cell_type": "markdown",
   "metadata": {},
   "source": [
    "# 6.16.1 匯入 Excel 檔案的資料\n",
    "\n",
    "要將 Excel 工作表的資料匯入 Dataframe，我們可以使用 Pandas 的 `read_excel()` 函式。\n",
    "\n",
    "\n",
    "`read_excel()` 的使用方式是傳入被讀取檔案的路徑以及資料所在的工作表名稱：\n",
    "\n",
    "```python\n",
    "df = pd.read_excel(\"歷史資料.xlsx\", sheet_name=\"2020-01\")\n",
    "print(df)\n",
    "```"
   ]
  },
  {
   "cell_type": "code",
   "execution_count": null,
   "metadata": {},
   "outputs": [],
   "source": []
  },
  {
   "cell_type": "markdown",
   "metadata": {},
   "source": [
    "`read_excel()` 函式雖然可以幫助我們匯入 Excel 檔案的資料，卻有一個限制，那就是無法讀取一個正在被開啓的 Excel 檔案。各位讀者可以嘗試先將範例檔案用 Excel 開啓，再次執行上述程式碼，就會出現錯誤。"
   ]
  },
  {
   "cell_type": "markdown",
   "metadata": {},
   "source": [
    "# 6.16.2 利用 xlwings 匯入 Excel 檔案的資料\n",
    "\n",
    "面對這樣的問題，xlwings 套件則可以突破上述限制，允許使用者能夠將一個正在被開啓的 Excel 檔案上的資料匯入 DataFrame。\n",
    "\n",
    "我們先用 xlwings 開啓 Excel 檔案，並且選擇 `2020-01` 工作表：\n",
    "\n",
    "```python\n",
    "import xlwings as xw\n",
    "import pandas as pd\n",
    "\n",
    "wb = xw.Book(\"歷史資料.xlsx\") \n",
    "sheet = wb.sheets[\"2020-01\"]\n",
    "```"
   ]
  },
  {
   "cell_type": "code",
   "execution_count": null,
   "metadata": {},
   "outputs": [],
   "source": []
  },
  {
   "cell_type": "markdown",
   "metadata": {},
   "source": [
    "接下來我們來見識一下 `.exapnd()` 函式：\n",
    "\n",
    "```python\n",
    "sheet.range(\"A1\").expand(\"down\")\n",
    "```"
   ]
  },
  {
   "cell_type": "code",
   "execution_count": null,
   "metadata": {},
   "outputs": [],
   "source": []
  },
  {
   "cell_type": "markdown",
   "metadata": {},
   "source": [
    "上述程式碼先選擇了一個起點（A1 儲存格），並且指定方向（往下），接下來便會往指定的方向擴張，自動搜尋出整個連續而且有值的範圍。\n",
    "\n",
    "\n",
    "![](https://drive.google.com/uc?export=download&id=1Ebd0agxQz7B0K1WsatfLiap8DABhgjWL)\n",
    "\n",
    "如同字面上的意思，`expand()` 函式代表從一個起點開始擴展，它的運作方式與我們之間偵測結束點用的 `.end()` 函式十分類似，但是語法相對簡潔許多。"
   ]
  },
  {
   "cell_type": "markdown",
   "metadata": {},
   "source": [
    "接下來我們呼叫 `.value`，就能將整欄的資料讀取成一個 List：\n",
    "\n",
    "```python\n",
    "sheet.range(\"A1\").expand(\"down\").value\n",
    "```"
   ]
  },
  {
   "cell_type": "code",
   "execution_count": null,
   "metadata": {},
   "outputs": [],
   "source": []
  },
  {
   "cell_type": "markdown",
   "metadata": {},
   "source": [
    "接下來我們換一個方向，以 A1 為起點，往右邊搜尋：\n",
    "\n",
    "```python\n",
    "sheet.range(\"A1\").expand(\"right\").value\n",
    "```"
   ]
  },
  {
   "cell_type": "code",
   "execution_count": null,
   "metadata": {},
   "outputs": [],
   "source": []
  },
  {
   "cell_type": "markdown",
   "metadata": {},
   "source": [
    "![](https://drive.google.com/uc?export=download&id=1ib_OPPNapTd2xnJLW6XeuIj5xkTvZgvZ)"
   ]
  },
  {
   "cell_type": "markdown",
   "metadata": {},
   "source": [
    "最後，以 A1 為起點，同時往下與往右搜尋：\n",
    "\n",
    "```python\n",
    "sheet.range(\"A1\").expand(\"table\")\n",
    "```"
   ]
  },
  {
   "cell_type": "code",
   "execution_count": null,
   "metadata": {},
   "outputs": [],
   "source": [
    "sheet.range(\"A1\").expand(\"table\")"
   ]
  },
  {
   "cell_type": "markdown",
   "metadata": {},
   "source": [
    "從 Excel 的角度來理解：\n",
    "\n",
    "![](https://drive.google.com/uc?export=download&id=1hduOWSVJ5IEU4OZOngC8BIe0oM-G9cA0)"
   ]
  },
  {
   "cell_type": "markdown",
   "metadata": {},
   "source": [
    "此時呼叫 `.value`，就能將範圍内的資料讀取成一個二維 List：\n",
    "\n",
    "```python\n",
    "sheet.range(\"A1\").expand(\"table\").value\n",
    "```"
   ]
  },
  {
   "cell_type": "code",
   "execution_count": null,
   "metadata": {},
   "outputs": [],
   "source": []
  },
  {
   "cell_type": "markdown",
   "metadata": {},
   "source": [
    "在明白了 expand 參數的運作方式之後，接下來若要將 `.expand()` 選擇到的資料匯入 DataFrame，我們可以使用 range 物件的 options 功能：\n",
    "\n",
    "\n",
    "```python\n",
    "import pandas as pd\n",
    "\n",
    "sheet1 = wb.sheets[\"2020-01\"]\n",
    "df1 = sheet1.range(\"A1\").options(pd.DataFrame, expand=\"table\").value\n",
    "print(df1)\n",
    "```"
   ]
  },
  {
   "cell_type": "code",
   "execution_count": null,
   "metadata": {},
   "outputs": [],
   "source": []
  },
  {
   "cell_type": "markdown",
   "metadata": {},
   "source": [
    "這行代表以 A1 為起點，同時往下與往右搜尋，找出了連續範圍的右下角，找出了兩個方向的結束點之後，將對應的範圍匯出，存入 DataFrame。\n",
    "\n",
    "\n",
    "注意在上述程式碼，我們在 `options` 功能的第一個參數指定了 `pd.DataFrame`，代表封裝用的資料結構。"
   ]
  },
  {
   "cell_type": "markdown",
   "metadata": {},
   "source": [
    "# 6.17 合併 DataFrame\n",
    "\n",
    "在上一個小節，我們讀出了第一個工作表上的資料，接下來我們嘗試將兩個工作表的資料合併起來：\n",
    "\n",
    "```python\n",
    "sheet2 = wb.sheets[\"2020-02\"]\n",
    "df2 = sheet2.range(\"A1\").options(pd.DataFrame, expand=\"table\").value\n",
    "print(df2)\n",
    "```"
   ]
  },
  {
   "cell_type": "code",
   "execution_count": null,
   "metadata": {},
   "outputs": [],
   "source": []
  },
  {
   "cell_type": "markdown",
   "metadata": {},
   "source": [
    "接下來我們用 Pandas 的 `concat()` 函數來縱向合併兩個 DataFrame：\n",
    "\n",
    "```python\n",
    "df3 = pd.concat([df1, df2])\n",
    "print(df3)\n",
    "```"
   ]
  },
  {
   "cell_type": "code",
   "execution_count": null,
   "metadata": {
    "scrolled": true
   },
   "outputs": [],
   "source": []
  },
  {
   "cell_type": "markdown",
   "metadata": {},
   "source": [
    "最後我們用一個迴圈，依照順序迭代每一個工作表，再將每一個工作上的歷史資料匯入成 DataFrame，最後再將所有的 DataFrame 集合起來，我們便可以將一整年的歷史資料整理到一個單一的 DataFrame 内：\n",
    "\n",
    "```python\n",
    "dfs = []\n",
    "# 迭代每一個工作表\n",
    "for sheet in wb.sheets:\n",
    "    # 讀取出每一個工作表上的歷史資料，將資料放入 DataFrame\n",
    "    df = sheet.range(\"A1\").options(pd.DataFrame, expand=\"table\").value\n",
    "    # 將 DataFrame 放入 list\n",
    "    dfs.append(df)\n",
    "# 最後合併所有的 DataFrame\n",
    "result_df = pd.concat(dfs)\n",
    "print(result_df)\n",
    "```"
   ]
  },
  {
   "cell_type": "code",
   "execution_count": null,
   "metadata": {
    "scrolled": true
   },
   "outputs": [],
   "source": []
  },
  {
   "cell_type": "markdown",
   "metadata": {},
   "source": [
    "# 6.18 用 xw.view() 檢查 DataFrame 内容\n",
    "\n",
    "當 DataFrame 内的資料量變得龐大時，當我們嘗試用 `print()` 方法將資料顯示出來時，DataFrame 就不會呈現完整的内容出來。\n",
    "\n",
    "若今天我們希望能夠檢查 DataFrame 的完整内容，可以呼叫 `xlwings` 的 `view()` 方法：\n",
    "\n",
    "```python\n",
    "xw.view(result_df)\n",
    "```"
   ]
  },
  {
   "cell_type": "code",
   "execution_count": null,
   "metadata": {},
   "outputs": [],
   "source": []
  },
  {
   "cell_type": "markdown",
   "metadata": {},
   "source": [
    "此方法會動態開啓一個新的 Excel 工作簿，並且將 DataFrame 上所有的資料即使呈現在工作簿上。\n",
    "\n",
    "![](https://drive.google.com/uc?export=download&id=1tJQw1t112yeZ4gTTgPCNd5-Djv_A9bUS)"
   ]
  },
  {
   "cell_type": "markdown",
   "metadata": {
    "colab_type": "text",
    "id": "-_XliGnRxjwA"
   },
   "source": [
    "# 6.19 計算報酬率\n",
    "\n",
    "`pct_change()` 函式會幫你計算每一個列之間數值的差距，以百分比的形式呈現出來：\n",
    "\n",
    "```python\n",
    "result_df[\"Close\"].pct_change(1) * 100\n",
    "```"
   ]
  },
  {
   "cell_type": "code",
   "execution_count": null,
   "metadata": {
    "colab": {},
    "colab_type": "code",
    "id": "urWt3_VmxjwB",
    "scrolled": true
   },
   "outputs": [],
   "source": []
  },
  {
   "cell_type": "markdown",
   "metadata": {
    "colab_type": "text",
    "id": "7R1lbo6kxjwC"
   },
   "source": [
    "在計算出每日報酬率之後，我們將結果寫入 DataFrame：\n",
    "\n",
    "```python\n",
    "result_df[\"daily return\"] = result_df[\"Close\"].pct_change(1) * 100\n",
    "print(result_df)\n",
    "```"
   ]
  },
  {
   "cell_type": "code",
   "execution_count": null,
   "metadata": {
    "colab": {},
    "colab_type": "code",
    "id": "g7e-r3RgxjwH",
    "scrolled": true
   },
   "outputs": [],
   "source": []
  },
  {
   "cell_type": "markdown",
   "metadata": {
    "colab_type": "text",
    "id": "ghYG4qGBxjwY"
   },
   "source": [
    "# 6.20 rolling() 滾動視窗\n",
    "\n",
    "接下來我們希望能夠利用 DataFrame 計算三日移動平均值，此時我們可以使用 `rolling()` 功能，代表從 DataFrame 最上方往下滾動，把每一列以及前 N 列的資料選起來做運算。\n",
    "\n",
    "```python\n",
    "result_df[\"Close\"].rolling(3)\n",
    "\n",
    "```"
   ]
  },
  {
   "cell_type": "code",
   "execution_count": null,
   "metadata": {},
   "outputs": [],
   "source": []
  },
  {
   "cell_type": "markdown",
   "metadata": {},
   "source": [
    "代表從第三個列開始，把每一個列以及前兩列的資料選起來做運算"
   ]
  },
  {
   "cell_type": "markdown",
   "metadata": {},
   "source": [
    "\n",
    "從 Excel 的角度來理解：\n",
    "\n",
    "![](https://drive.google.com/uc?export=download&id=1cRGJzyzKaVe3S7Lmd2dEw99d7KUKrEO2)"
   ]
  },
  {
   "cell_type": "markdown",
   "metadata": {},
   "source": [
    "但是，在選起來之後，必須針對懸起來的資料做一些運算：\n",
    "\n",
    "```python\n",
    "result_df[\"Close\"].rolling(3).sum()\n",
    "```"
   ]
  },
  {
   "cell_type": "code",
   "execution_count": null,
   "metadata": {},
   "outputs": [],
   "source": []
  },
  {
   "cell_type": "markdown",
   "metadata": {},
   "source": [
    "代表把每三筆資料加起來的意思，從 Excel 的角度來理解：\n",
    "\n",
    "![](https://drive.google.com/uc?export=download&id=1Rod0kB_VOSv7BdWs1kis2bGQIqEj3W5X)"
   ]
  },
  {
   "cell_type": "markdown",
   "metadata": {
    "colab_type": "text",
    "id": "nVRqRBX9xjwd"
   },
   "source": [
    "# 6.21 計算 3 日移動平均\n",
    "\n",
    "以下可以將選起來的每三筆資料的加總除以 3：\n",
    "\n",
    "```python\n",
    "result_df[\"Close\"].rolling(3).sum() / 3\n",
    "```"
   ]
  },
  {
   "cell_type": "code",
   "execution_count": null,
   "metadata": {},
   "outputs": [],
   "source": []
  },
  {
   "cell_type": "markdown",
   "metadata": {},
   "source": [
    "另外也可以使用 mean() 方法，直接將選擇到的每三筆資料的平均值算出來：\n",
    "\n",
    "```python\n",
    "result_df[\"Close\"].rolling(3).mean()\n",
    "```"
   ]
  },
  {
   "cell_type": "code",
   "execution_count": null,
   "metadata": {
    "colab": {},
    "colab_type": "code",
    "id": "NHVkzCyNxjwd",
    "scrolled": true
   },
   "outputs": [],
   "source": []
  },
  {
   "cell_type": "markdown",
   "metadata": {
    "colab_type": "text",
    "id": "D6m7yEnsxjwg"
   },
   "source": [
    "將計算好的三日移動平均資料寫回 DataFrame：\n",
    "\n",
    "```python\n",
    "result_df[\"sma3d\"] = result_df[\"Close\"].rolling(3).mean()\n",
    "print(result_df)\n",
    "```"
   ]
  },
  {
   "cell_type": "code",
   "execution_count": null,
   "metadata": {
    "colab": {},
    "colab_type": "code",
    "id": "RLFlvIfuxjwh",
    "scrolled": true
   },
   "outputs": [],
   "source": []
  },
  {
   "cell_type": "markdown",
   "metadata": {
    "colab_type": "text",
    "id": "mwXSV3RCxjwN"
   },
   "source": [
    "# 6.22 將資料匯入 Excel 檔案\n",
    "\n",
    "使用 Pandas 内建的 `.to_excel()`:\n",
    "\n",
    "```python\n",
    "result_df.to_excel(r\"指定儲存 stock_report.xlsx 的路徑\", sheet_name=\"工作表名稱\")\n",
    "```"
   ]
  },
  {
   "cell_type": "code",
   "execution_count": null,
   "metadata": {
    "colab": {},
    "colab_type": "code",
    "id": "N6Oew7XFxjwO"
   },
   "outputs": [],
   "source": []
  },
  {
   "cell_type": "markdown",
   "metadata": {
    "colab_type": "text",
    "id": "F5g11ZCWxjwQ"
   },
   "source": [
    "# 6.23 寫入 Excel (xlwings 做法)\n",
    "\n",
    "將 DataFrame 的資料輸入至 Excel，其實還有另一種做法，那就是透過 xlwings:\n",
    "\n",
    "```python\n",
    "import xlwings as xw\n",
    "# 產生新工作簿\n",
    "wb = xw.Book()\n",
    "# 選擇工作表1\n",
    "sheet = wb.sheets[0]\n",
    "```\n"
   ]
  },
  {
   "cell_type": "code",
   "execution_count": null,
   "metadata": {},
   "outputs": [],
   "source": []
  },
  {
   "cell_type": "markdown",
   "metadata": {},
   "source": [
    "想象一下，將 DataFrame 這個虛擬工作表與欲寫入的 Excel 工作表位置的左上角對應起來：\n",
    "\n",
    "```python\n",
    "# 將 DataFrame 寫入以 A1 為起點 (左上角) 的範圍\n",
    "sheet.range(\"A1\").value = result_df\n",
    "```"
   ]
  },
  {
   "cell_type": "code",
   "execution_count": null,
   "metadata": {
    "colab": {},
    "colab_type": "code",
    "id": "Drb_PXdsxjwS"
   },
   "outputs": [],
   "source": []
  },
  {
   "cell_type": "markdown",
   "metadata": {},
   "source": [
    "\n",
    "```python\n",
    "# 設定工作表名稱\n",
    "sheet.name = \"2020 臺積電歷史資料\"\n",
    "# 儲存檔案\n",
    "wb.save(\"TSMC-2020.xlsx\")\n",
    "```"
   ]
  },
  {
   "cell_type": "code",
   "execution_count": null,
   "metadata": {},
   "outputs": [],
   "source": []
  },
  {
   "cell_type": "markdown",
   "metadata": {},
   "source": [
    "![](https://drive.google.com/uc?export=download&id=1JepEXdfYNi82KwYXsr1j8GIG7kuUD4So)\n",
    "\n",
    "大功告成！"
   ]
  },
  {
   "cell_type": "markdown",
   "metadata": {},
   "source": [
    "# 6.24 小結\n",
    "\n",
    "在這一課，我們見識到了 Pandas 這個 Python 資料科學套件，**Pandas 是學習 Python 一個重要的分水嶺，在學會 Pandas 之後，原本我們需要用繁雜的手動方式在 Excel 上進行的資料處理以及計算，用 Python都能夠透過非常簡潔的程式碼實作。**\n",
    "\n",
    "\n",
    "我們也見識到，xlwings 這個套件有十分多和 Pandas 相關的功能，例如 `xw.view()`，讓 Excel 的角色從單純的資料庫變成一個呈現海量資料的界面，讓 Python 以及 Excel 這兩大工具形成互補關係，協助開發者能更方便的分析或處理大量的資料。\n",
    "\n",
    "\n",
    "**備注：本教材由張佑成編寫，版權所有，翻印必究**"
   ]
  }
 ],
 "metadata": {
  "colab": {
   "collapsed_sections": [
    "Iv5X-M1kxjrx",
    "LcTARUvexjr3",
    "Zc1NDyuhxjuU",
    "Z9n1hFzQxju7",
    "lMTgZEERxjvB",
    "QOJWzupexjvN",
    "R4FHomHRxjvT",
    "n-CQ_bRpxjvd",
    "fhizv5bLxjvh",
    "jtPIR11Uxjvo",
    "OcnqssIBxjvr",
    "vvNvlfiNxjvu",
    "Su8EOZmExjvx",
    "kgw1wV10xjv0",
    "Oc2_GqrCxjv4",
    "VFyUWOrZxjv8",
    "pdKOaFJGxjv-",
    "-_XliGnRxjwA",
    "7R1lbo6kxjwC",
    "qneVKrTlxjwI",
    "ziDeX37kxjwK",
    "mwXSV3RCxjwN",
    "F5g11ZCWxjwQ",
    "HepFb2xQxjwV",
    "ghYG4qGBxjwY",
    "nVRqRBX9xjwd",
    "D6m7yEnsxjwg",
    "cktPuzUZxjwj",
    "PJy-MOFpxjwo"
   ],
   "name": "Python x Excel 大數據分析實戰：Pandas 入門.ipynb",
   "provenance": []
  },
  "kernelspec": {
   "display_name": "Python 3 (ipykernel)",
   "language": "python",
   "name": "python3"
  },
  "language_info": {
   "codemirror_mode": {
    "name": "ipython",
    "version": 3
   },
   "file_extension": ".py",
   "mimetype": "text/x-python",
   "name": "python",
   "nbconvert_exporter": "python",
   "pygments_lexer": "ipython3",
   "version": "3.11.5"
  },
  "vscode": {
   "interpreter": {
    "hash": "ad2bdc8ecc057115af97d19610ffacc2b4e99fae6737bb82f5d7fb13d2f2c186"
   }
  }
 },
 "nbformat": 4,
 "nbformat_minor": 1
}
