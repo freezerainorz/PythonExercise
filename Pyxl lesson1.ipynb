{
 "cells": [
  {
   "cell_type": "markdown",
   "metadata": {
    "id": "TDIRRgZuGZl9"
   },
   "source": [
    "# 我們先復習一下 Excel\n",
    "\n",
    "---\n",
    "## Excel 是一個以**表格為單位的工具**\n",
    "\n",
    "---\n",
    "## 從結構化的角度來看 Excel\n",
    "\n",
    "![](https://drive.google.com/uc?export=download&id=1E1WKGkJ5Sdmm4hAT0Bd73rPu2aEps1Zo)\n",
    "\n",
    "**Application** (Excel 應用程式)\n",
    "\n",
    "**Workbook** (工作簿)\n",
    "\n",
    "**Worksheet** (工作表)\n",
    "\n",
    "**Range** (範圍)\n",
    "\n",
    "**Cell** (儲存格)\n",
    "\n",
    "由上往下的抽象層次**永遠是一對多的關係**\n",
    "\n",
    "例：\n",
    "\n",
    "**一個工作簿**内可以有**多個工作表**\n",
    "\n",
    "**一個工作表**只能屬於**一個工作簿**\n",
    "\n",
    "## Excel 基礎：儲存格（Cell）\n",
    "\n",
    "![](https://drive.google.com/uc?export=download&id=1RtD9pawZ2VA9KwdDxJPB5cQLOrVSTOOR)\n",
    "\n",
    "---\n",
    "## Excel 基礎：欄 (Column)\n",
    "\n",
    "![](https://drive.google.com/uc?export=download&id=1g_wiNtIMYIOMJ5tN8vHG0puw5LQh38rH)\n",
    "\n",
    "---\n",
    "## Excel 基礎：列（Row）\n",
    "\n",
    "![](https://drive.google.com/uc?export=download&id=11EZ4PRNXE139oiGqBgNFOQNVp2xOXQlG)\n",
    "\n",
    "---\n",
    "## Row vs Column\n",
    "\n",
    "Row 是**橫向**，Column 是**縱向**\n",
    "\n",
    "Row 是用**數字**表示，Column 是用**英文字母**表示\n",
    "\n",
    "---\n",
    "# 儲存格命名規則\n",
    "\n",
    "- 在 Excel 的工作表中，任何一個儲存格都有獨一無二的儲存格位置\n",
    "- 這個位置是以該儲存格在工作表中的欄名+列號組合而成\n",
    "- 儲存格是用該儲存格的Row值與Column值表示，就如同儲存格的地址一樣\n",
    "\n",
    "例：下圖被選擇的儲存格名稱是 B4\n",
    "\n",
    "![](https://drive.google.com/uc?export=download&id=1nWniiuVVREYH-VV_RewJ7NKrkaNW2UYg)\n",
    "\n",
    "---\n",
    "## Excel 公式（Formula）\n",
    "\n",
    "Excel 最核心的功能之一，容許使用者像寫數學公式一樣的\b在 Excel \b試算表上做數學運算\n",
    "\n",
    "---\n",
    "## Excel 公式基礎：數學公式\n",
    "\n",
    "\b今天若希望 \bExcel 能够做\b某一種數值運算，我們要如何在公式裡表達這個運算？\n",
    "\n",
    "---\n",
    "## 輸入 Excel 公式\n",
    "\n",
    "1. 先點選一個儲存格，讓其變成作用儲存格（Active Cell）\n",
    "\n",
    "![](https://drive.google.com/uc?export=download&id=1LuG7Z1C92LXLRETIZP9NaAtxETDcs-no)\n",
    "\n",
    "---\n",
    "## 輸入 Excel 公式\n",
    "\n",
    "\n",
    "2. 輸入符號「=」\n",
    "\n",
    "![](https://drive.google.com/uc?export=download&id=1SZWe2r2Bi9TLx_-riKJNFGeaJCa4xvjq)\n",
    "\n",
    "---\n",
    "## 輸入 Excel 公式\n",
    "\n",
    "3. 接下来請輸入 2 + 3\n",
    "\n",
    "![](https://drive.google.com/uc?export=download&id=1Dj5BDQkyovqyHrx0oRp0e29MzkOQhl9k)\n",
    "\n",
    "---\n",
    "## 輸入 Excel 公式\n",
    "\n",
    "4. Excel 在計算出公式的結果後，會將答案顯示在儲存格内\n",
    "\n",
    "![](https://drive.google.com/uc?export=download&id=185a8DvLN-VrjiOO_mbGRaXNXQE8gcrFH)\n",
    "\n",
    "---\n",
    "## 輸入 Excel 公式（例）\n",
    "\n",
    "![](https://drive.google.com/uc?export=download&id=1aLJrM3yIJTdNEO20lTmKcH3sT0VcvttG)\n",
    "\n",
    "---\n",
    "## 參照（Reference）\n",
    "\n",
    "在寫 Excel 公式時，其實可以輸入儲存格名稱，而 Excel 會帶入該儲存格内的資料\n",
    "\n",
    "![](https://drive.google.com/uc?export=download&id=10jT5fF0gQcbAjMsTmavF29jsKnCT0-l-)\n",
    "\n",
    "所以我們原本的公式就可以改成：\n",
    "\n",
    "![](https://drive.google.com/uc?export=download&id=1ifDiuIC5wwqKBBgtSX1dzNc9uiVr98aK)\n",
    "\n",
    "結果：\n",
    "\n",
    "![](https://drive.google.com/uc?export=download&id=1Con5Hqobe_QezIpj7kgTutxcJSeixJ1J)\n"
   ]
  },
  {
   "cell_type": "markdown",
   "metadata": {
    "id": "ZpnBDqybGZmH"
   },
   "source": [
    "# 在開始 VBA 之前\n",
    "\n",
    "[下載範例 Excel 檔](https://www.dropbox.com/s/hkf2vtl41smb487/Lecture%201%20-%20S%26P%20500%20data.xlsx?dl=1)\n",
    "\n",
    "---\n",
    "# 練習一：計算股票的日報酬率\n",
    "\n",
    "```\n",
    "日報酬率 = (今日收盤價 - 昨日收盤價) / 昨日收盤價\n",
    "```\n",
    "\n",
    "---\n",
    "# 但是設想一下...\n",
    "\n",
    "若今天需要計算報酬率的股票有一百支...\n",
    "\n",
    "輸入公式與下拉就變成了一件重複又無聊的事\n",
    "\n",
    "---\n",
    "# Excel 錄製巨集\n",
    "\n",
    "一個實用的 Excel 功能，Excel 會把一連串使用者的操作都錄製下來\n",
    "\n",
    "![](https://drive.google.com/uc?export=download&id=1KFoLAc6VsDVkKwP6KQ6BEzGY13yPRrvv)\n",
    "\n",
    "---\n",
    "# 啟動開發人員選項\n",
    "\n",
    "檔案 -> 選項 -> 自訂功能區 -> 開發人員 -> 確認\n",
    "\n",
    "![](https://drive.google.com/uc?export=download&id=1m6FFb420PfmJe4aGz9IHYqdjF1DBy6vc)\n",
    "\n",
    "---\n",
    "# 錄製巨集的黑暗魔法\n",
    "\n",
    "實際上錄製巨集的運作原理很簡單，就是把使用者的操作轉成一支 VBA 的巨集(程式)\n",
    "\n",
    "---\n",
    "# 錄製巨集的黑暗魔法\n",
    "\n",
    "想理解更多的同學可以看一下 [Microsoft 的官方文件](https://support.office.com/zh-tw/article/%E4%BD%BF%E7%94%A8%E5%B7%A8%E9%9B%86%E9%8C%84%E8%A3%BD%E5%99%A8%E8%87%AA%E5%8B%95%E5%8C%96%E5%B7%A5%E4%BD%9C-974ef220-f716-4e01-b015-3ea70e64937b)\n",
    "\n",
    "---\n",
    "# 錄製巨集的限制：\n",
    "\n",
    "- 容易錄製出過度冗長的操作\n",
    "- 對話型巨集無法被錄製，欠失情況與對象的彈性\n",
    "- 無法錄製使用者的條件判斷\n",
    "- 若資料筆數改變，容易發生計算錯誤的問題\n"
   ]
  },
  {
   "cell_type": "markdown",
   "metadata": {
    "id": "ly-7F-exGZmM"
   },
   "source": [
    "# VBA 基礎\n",
    "\n",
    "今天無論學任何程式語言，通常在慣例上寫的第一個程式就是 `Hello World!`\n",
    "讓電腦顯示 `Hello World!` 字樣\n",
    "\n",
    "---\n",
    "\n",
    "# Hello World!\n",
    "\n",
    "接下來請點選“開發人員” 選項，Excel會顯示VBA編輯器，此時：\n",
    "\n",
    "![image info](https://drive.google.com/uc?export=download&id=1fO3wcYWPUaqSX6OnmxzUcfK2SEqZ_p_j)\n",
    "\n",
    "1. 先點選一下左邊的專案欄。\n",
    "2. 右鍵點選 “Microsfot Excel物件” 的資料夾\n",
    "3. 接下來選擇插入\n",
    "4. 然後選擇模組\n",
    "\n",
    "---\n",
    "# Hello World!\n",
    "\n",
    "在編輯器上輸入：\n",
    "\n",
    "```vb\n",
    "Sub HelloWorld()\n",
    "    Msgbox(\"Hello World!\")\n",
    "End Sub\n",
    "```\n",
    "\n",
    "---\n",
    "# Hello World!\n",
    "\n",
    "![](https://drive.google.com/uc?export=download&id=137OfakCJZKrYTAe9hHtqYLln8taWfanf)\n",
    "\n",
    "---\n",
    "# Hello World!\n",
    "\n",
    "![](https://drive.google.com/uc?export=download&id=1Xv4PlWeV4iwU0ap57FI6Zd_oOGm2Y2Pb)\n",
    "\n",
    "恭喜！你已經寫出了你的第一支VBA的程式。\n",
    "\n",
    "---\n",
    "# 範例 Excel 檔案\n",
    "\n",
    "請開啓第一課教材的 `Cells_Range_Example.xlsx` 範例檔\n",
    "\n",
    "---\n",
    "# 原則\n",
    "\n",
    "用一句話概括用寫和 Excel 相關的程式，就是：針對單位的儲存格進行操作，而**今天不管你是要操作任何一個單位的表格，首先一件事就是你必須得先選擇它。**\n",
    "\n",
    "---\n",
    "\n",
    "### Cells() 函數：\n",
    "\n",
    "用法：**Cells(row值, column值)**\n",
    "\n",
    "今天當我想賦值給 A1 儲存格時：\n",
    "```vb\n",
    "Cells(1, 1).value = 123\n",
    "```\n",
    "問題是這樣的寫法非常不直覺，所以 VBA 也支援以下寫法：\n",
    "```vb\n",
    "Cells(1, \"A\").value = 123\n",
    "```\n",
    "\n",
    "### Range() 函數：\n",
    "\n",
    "當我需要針對一個或多個儲存格(一個 Excel 試算表的範圍)去進行操作時：\n",
    "\n",
    "用法：**Range(\"起點:結束點\")**\n",
    "\n",
    "將 A1 儲存格的值設定成 123\n",
    "```vb\n",
    "Range(\"A1\").value = 123\n",
    "```\n",
    "將範圍 A1 到 C3 共九個儲存格的值設定成 123\n",
    "\n",
    "```vb\n",
    "Range(\"A1:C3\").value = 123\n",
    "```\n",
    "\n",
    "### Dot Notation (句點表示法)：\n",
    "\n",
    "大部分的物件導向程式語言都支援的語法：\n",
    "\n",
    "**<物件名稱>.<屬性名稱> = <被賦予的值>**\n",
    "\n",
    "當然，字串在用 loop 執行時會增加程式碼的複雜度(字串拼接)\n",
    "所以 Range 有另一種用法：**Range(Cells(起點), Cells(結束點))**\n",
    "\n",
    "```vb\n",
    "Range(Cells(1, \"A\"), Cells(3, \"C\")).value = 123\n",
    "```"
   ]
  },
  {
   "cell_type": "markdown",
   "metadata": {
    "id": "nld2uJt2GZmQ"
   },
   "source": [
    "# 用 Python 操作 Excel\n",
    "\n",
    "\n",
    "\n",
    "## 一些常見的 Python 串接 Excel 的套件\n",
    "\n",
    "\n",
    "##  xlrd  \n",
    "一個老牌套件，支援讀取 Excel 試算表，但是只支援舊的 Excel 檔案格式（.xls）在這本書就不多做贅述。這個套件適合一些在功能上需要讀取（.xls）檔案格式的功能。\n",
    "\n",
    "## xlwt \n",
    "與 `xlrd` 可以説是一對姐妹套件，支援將 Python 運算的資料寫入舊 Excel 檔案格式（.xls）的功能。\n",
    "\n",
    "## xlutils\n",
    "\n",
    "整合了 `xlrd` 與 `xlwt` 兩者功能的套件。\n",
    "\n",
    "## XLTable\n",
    "\n",
    "一個高階的套件，優點在於提供了一個叫 `Table` 的物件，允許開發者將二維的資料結構，像是二維串列或是 Pandas DataFrame，一次性的寫入至 Excel，而非需要用迴圈以行或列為單位的資料寫入 Excel。\n",
    "\n",
    "該套件的缺點在於使用者十分稀少，版本也沒有做積極的更新。上述的 `Table` 功能也很容易在其他的套件可以找到，總總原因讓該套件成爲了一個冷門套件。\n",
    "\n",
    "## Pandas\n",
    "\n",
    "由於近年來大數據與資料科學的興起，Pandas 這個等同於 Python 殺手鐧的套件的功能十分完善，當然也有讀取與寫入 Excel 的功能。若是有使用過 Pandas 的開發者，肯定對 `.read_csv()` 或 `.to_excel()` 功能不陌生。\n",
    "\n",
    "## openpyxl\n",
    "\n",
    "一個老牌的 Python 與 Excel 串接的套件。功能上包括了讀取與寫入 xlsx 檔案。另外，openpyxl 在 Excel 的樣式設定上的功能十分齊全，非常適合用於輸出完整、特定樣式的 Excel 報表。\n",
    "\n",
    "該套件的缺點是在寫入大量的資料時，像是將整個 Pandas 的 DataFrame 的資料輸出至 Excel 時，語法稍顯冗長，無法做到和 Panda 套件一樣的一行程式碼輸出整個 DataFrame。\n",
    "\n",
    "\n",
    "但是這些套件都有一個共同的缺點，就是無法和 VBA 一樣做到**及時寫入**。"
   ]
  },
  {
   "cell_type": "markdown",
   "metadata": {
    "id": "-Wzy76J7GZmS"
   },
   "source": [
    "## 我們先來體驗一下 openpyxl 這個套件"
   ]
  },
  {
   "cell_type": "code",
   "execution_count": null,
   "metadata": {
    "id": "0bnzucLpGZmV"
   },
   "outputs": [],
   "source": [
    "import openpyxl\n",
    "# import os"
   ]
  },
  {
   "cell_type": "code",
   "execution_count": null,
   "metadata": {
    "id": "JKdPBTwAGZme"
   },
   "outputs": [],
   "source": [
    "# 請確認範例檔案 stock_price_data.xlsx 與這個 notebook 檔案是在同一個資料夾底下\n",
    "\n",
    "# os.chdir(r\"範例檔案 stock_price_data.xlsx 所在的資料夾路徑\")\n",
    "workbook = openpyxl.load_workbook(\"stock_price_data.xlsx\")"
   ]
  },
  {
   "cell_type": "code",
   "execution_count": null,
   "metadata": {
    "id": "8GkVoYftGZml"
   },
   "outputs": [],
   "source": [
    "# 看看是否有截取到工作簿\n",
    "workbook"
   ]
  },
  {
   "cell_type": "code",
   "execution_count": null,
   "metadata": {
    "id": "H_Uk5Mo9GZmw"
   },
   "outputs": [],
   "source": [
    "# 將工作簿底下，名爲 2330 的工作表讀取出來，存入 sheet 變數 \n",
    "sheet = workbook[\"2330\"]\n",
    "sheet"
   ]
  },
  {
   "cell_type": "markdown",
   "metadata": {
    "id": "ShTq_-WLGZm3"
   },
   "source": [
    "## 隨堂練習：計算第二天的日報酬率\n",
    "\n",
    "我們來嘗試計算臺積電的日報酬率\n",
    "\n",
    "以我們目前工作表的格式，流程十分簡單：\n",
    "\n",
    "1. 點選 B4 儲存格\n",
    "2. 輸入公式 **=(B3-B2)/B2**\n",
    "3. 按下 Enter，計算出第一天報酬率\n",
    "\n",
    "簡單來説，就是去 B3 及 B2 儲存格讀取資料，計算出報酬率，再將報酬率寫入 C3 儲存格"
   ]
  },
  {
   "cell_type": "code",
   "execution_count": null,
   "metadata": {
    "id": "-jNh3JVtGZm6"
   },
   "outputs": [],
   "source": [
    "sheet.cell(row=1, column=1).value"
   ]
  },
  {
   "cell_type": "code",
   "execution_count": null,
   "metadata": {
    "id": "8SzoomtlGZnD"
   },
   "outputs": [],
   "source": [
    "# B3\n",
    "sheet.cell(row=3, column=2).value"
   ]
  },
  {
   "cell_type": "code",
   "execution_count": null,
   "metadata": {
    "id": "-5PMzcVXGZnH"
   },
   "outputs": [],
   "source": [
    "# B2\n",
    "sheet.cell(row=2, column=2).value"
   ]
  },
  {
   "cell_type": "code",
   "execution_count": null,
   "metadata": {
    "id": "GPjHUuddGZnR"
   },
   "outputs": [],
   "source": [
    "# 計算報酬率\n",
    "(sheet.cell(row=3, column=2).value - sheet.cell(row=2, column=2).value) / sheet.cell(row=2, column=2).value"
   ]
  },
  {
   "cell_type": "code",
   "execution_count": null,
   "metadata": {
    "id": "Cx2mRWyBGZnT"
   },
   "outputs": [],
   "source": [
    "result = sheet.cell(row=1, column=2).value\n",
    "print(result)"
   ]
  },
  {
   "cell_type": "code",
   "execution_count": null,
   "metadata": {
    "id": "0bqG7sqQGZnX"
   },
   "outputs": [],
   "source": [
    "# 取得 B4 儲存格(第三天)的資料\n",
    "today_price = sheet.cell(row=4, column=2).value\n",
    "today_price"
   ]
  },
  {
   "cell_type": "code",
   "execution_count": null,
   "metadata": {
    "id": "L1iNz9T8GZna"
   },
   "outputs": [],
   "source": [
    "# 取得 B3 儲存格(第二天)的資料\n",
    "yesterday_price = sheet.cell(row=3, column=2).value\n",
    "yesterday_price"
   ]
  },
  {
   "cell_type": "code",
   "execution_count": null,
   "metadata": {
    "id": "2MLpMmAdGZnh"
   },
   "outputs": [],
   "source": [
    "# 計算報酬率\n",
    "return_value = (today_price - yesterday_price) / yesterday_price\n",
    "return_value"
   ]
  },
  {
   "cell_type": "code",
   "execution_count": null,
   "metadata": {
    "id": "O263OghpGZnl"
   },
   "outputs": [],
   "source": [
    "# 最後需要把值寫入儲存格 C4 (別忘了關掉 Excel 檔案)\n",
    "sheet.cell(row=4, column=3).value = return_value"
   ]
  },
  {
   "cell_type": "code",
   "execution_count": null,
   "metadata": {
    "id": "6dSYo_ScGZnp"
   },
   "outputs": [],
   "source": [
    "# 存檔\n",
    "workbook.save(\"stock_price_data.xlsx\")"
   ]
  },
  {
   "cell_type": "markdown",
   "metadata": {
    "id": "k0vmc7qNGZns"
   },
   "source": [
    "## openpyxl 小結\n",
    "- 功能强大，語法貼近 Python\n",
    "- 若是有功能需要做到寫入儲存格，就需要關掉 Excel 才可以運作 (無法所見及所得，開發流程與效率相對差)\n",
    "- 若是需要寫入值，需要在程式的最後一行加上 workbook.save() (相對麻煩)\n",
    "- 適用於大型系統輸出 Excel 報表的功能"
   ]
  },
  {
   "cell_type": "markdown",
   "metadata": {
    "id": "q-PTJSkzGZns"
   },
   "source": [
    "# 接下來我們來試試看 xlwings 套件\n",
    "\n",
    "- 先關閉你的 Excel 應用程式"
   ]
  },
  {
   "cell_type": "code",
   "execution_count": null,
   "metadata": {
    "id": "85zxpK2MGZnt"
   },
   "outputs": [],
   "source": [
    "# 引用 xlwings 套件\n",
    "import xlwings as xw"
   ]
  },
  {
   "cell_type": "code",
   "execution_count": null,
   "metadata": {
    "id": "ttWi24BvGZny"
   },
   "outputs": [],
   "source": [
    "# 打開你的 Cells_Range_Examples.xlsm 檔案\n",
    "wb = xw.Book(r\"Cells_Range_Examples.xlsm\")"
   ]
  },
  {
   "cell_type": "code",
   "execution_count": null,
   "metadata": {
    "id": "vYXxBj_OGZn4"
   },
   "outputs": [],
   "source": [
    "# 從該 Excel 檔案裡找出名為 \"練習1\" 的試算表，存入 sheet 這個變數裏\n",
    "sheet = wb.sheets[\"練習1\"]\n",
    "sheet"
   ]
  },
  {
   "cell_type": "code",
   "execution_count": null,
   "metadata": {
    "id": "cQu0Y2FwGZn-"
   },
   "outputs": [],
   "source": [
    "# 將 101 寫入 A1 儲存格\n",
    "sheet.range(\"A2\").value = 101"
   ]
  },
  {
   "cell_type": "markdown",
   "metadata": {
    "id": "f-vNIaYoGZoJ"
   },
   "source": [
    "# xlwings 的厲害之處\n",
    "\n",
    "能夠即時讀寫一個正在開啓的 Excel 工作簿\n",
    "\n",
    "### xlwings 的 cells() 與 range()\n",
    "\n",
    "在語法上非常貼近 VBA 的 cells() 與 range():\n",
    "\n",
    "```python\n",
    "sheet.cells(1, 'A').value = 123\n",
    "\n",
    "sheet.range(\"A1:C3\").value = 123\n",
    "```\n",
    "\n",
    "這樣的好處是大幅降低了 VBA 開發者切換至 Python 的學習成本"
   ]
  },
  {
   "cell_type": "code",
   "execution_count": null,
   "metadata": {
    "id": "CN5NIkTvGZoL"
   },
   "outputs": [],
   "source": [
    "# sheet.range(\"A2\").value = 101"
   ]
  },
  {
   "cell_type": "code",
   "execution_count": null,
   "metadata": {
    "id": "XE34miMtGZoX"
   },
   "outputs": [],
   "source": [
    "# sheet.range(\"A7:B7\").value = \"ABC\""
   ]
  },
  {
   "cell_type": "code",
   "execution_count": null,
   "metadata": {
    "id": "qd6WYCfOGZob"
   },
   "outputs": [],
   "source": [
    "# sheet.range(\"A12:C13\").value = 5"
   ]
  },
  {
   "cell_type": "code",
   "execution_count": null,
   "metadata": {
    "id": "ZKAU37xzGZof"
   },
   "outputs": [],
   "source": [
    "# sheet.range(\"C17\").value = sheet.range(\"A17\").value"
   ]
  },
  {
   "cell_type": "code",
   "execution_count": null,
   "metadata": {
    "id": "wU0rfsGIGZok"
   },
   "outputs": [],
   "source": [
    "# sheet.range(\"A22:B22\").value"
   ]
  },
  {
   "cell_type": "markdown",
   "metadata": {
    "id": "5v6nEtzKGZoq"
   },
   "source": [
    "## List (清單)\n",
    "\n",
    "今天一個由多個儲存格組成的**範圍 (range)**的值，通常是被封裝在一個 python 的串列 (List) 内\n",
    "\n",
    "對於學過其他程式語言的同學，python list 就是陣列 (Array)\n",
    "\n",
    "因此，以下程式碼：\n",
    "```python\n",
    "sheet.range(\"A22:B22\").value\n",
    "```\n",
    "會回傳:\n",
    "```python\n",
    "['ABC', 123.0]\n",
    "```"
   ]
  },
  {
   "cell_type": "code",
   "execution_count": null,
   "metadata": {
    "id": "I-laUvQCGZor"
   },
   "outputs": [],
   "source": [
    "# 試試看讀取 A27:B29 的值\n",
    "sheet.range(\"A27:B29\").value"
   ]
  },
  {
   "cell_type": "markdown",
   "metadata": {
    "id": "3dc-0GShGZot"
   },
   "source": [
    "若今天一個 **range** 是二維的，也就是 row 和 column 的數目都超過一，該**range**的值就會被封裝在一個二維清單 / 陣列内\n",
    "\n",
    "```python\n",
    "[\n",
    "    [1.0, 2.0], \n",
    "    [3.0, 4.0], \n",
    "    [5.0, 6.0]\n",
    "]\n",
    "```\n",
    "\n",
    "第一層 List 内有三個 List\n",
    "\n",
    "内部每一個 List 都代表一個 row 的資料"
   ]
  },
  {
   "cell_type": "code",
   "execution_count": null,
   "metadata": {
    "id": "6-Eu-2BXGZou"
   },
   "outputs": [],
   "source": [
    "#sheet.range(\"D27:E29\").value = sheet.range(\"A27:B29\").value"
   ]
  },
  {
   "cell_type": "code",
   "execution_count": null,
   "metadata": {
    "id": "KowlvxoTGZoz"
   },
   "outputs": [],
   "source": [
    "#sheet.range(\"A35:A37\").value"
   ]
  },
  {
   "cell_type": "markdown",
   "metadata": {
    "id": "U_KyABQCGZo3"
   },
   "source": [
    "# 請記得一個簡單的口號\n",
    "\n",
    "要用 Python 與 xlwings 一次性的將多筆資料寫入一個 Excel 的範圍，就**必須將寫入的資料放入大小與儲存格範圍一樣的二維串列内**"
   ]
  },
  {
   "cell_type": "markdown",
   "metadata": {
    "id": "B_qAOyBxGZo4"
   },
   "source": [
    "# .formula 屬性\n",
    "\n",
    "\n",
    "每一個儲存格都有一個 formula 屬性，可以利用 python 動態設定該儲存格的公式\n",
    "\n",
    "\n",
    "**注意公式需要用字串 \"\" 表示，都是從 \"=\" 開始**\n",
    "\n",
    "```python\n",
    "tsmc_sheet.cells(4, \"D\").formula = \"=AVERAGE(B2:B4)\"\n",
    "```\n",
    "\n",
    "當然，我也可以用 range() 來選擇 D4:\n",
    "\n",
    "```python\n",
    "tsmc_sheet.range(\"D4\").formula = \"=AVERAGE(B2:B4)\"\n",
    "```\n",
    "\n"
   ]
  },
  {
   "cell_type": "code",
   "execution_count": null,
   "metadata": {
    "id": "33WMYfvHGZo6"
   },
   "outputs": [],
   "source": [
    "#sheet.range(\"C35\").formula = \"=SUM(A35:A37)\""
   ]
  },
  {
   "cell_type": "markdown",
   "metadata": {
    "id": "qchhrJIlGZpB"
   },
   "source": [
    "# .color 屬性\n",
    "\n",
    "每一個儲存格都有一個 color 屬性，可以利用 python **動態設定儲存格的底色**\n",
    "\n",
    "注意 color 的表達方式是將三原色 (RGB 值) 用 tuple (元組) 來表示：\n",
    "\n",
    "```python\n",
    "# 紅色亮度調最大，藍色、綠色調最小\n",
    "(255, 0, 0)\n",
    "```\n",
    "\n",
    "所以若要把 A1 儲存格的底色換成紅色：\n",
    "\n",
    "```python\n",
    "tsmc_sheet.range(\"A1\").color = (255, 0, 0)\n",
    "```"
   ]
  },
  {
   "cell_type": "code",
   "execution_count": null,
   "metadata": {
    "id": "_kfH30dvGZpF"
   },
   "outputs": [],
   "source": []
  },
  {
   "cell_type": "markdown",
   "metadata": {
    "id": "h9v3VshtGZpK"
   },
   "source": [
    "\n",
    "### VBA Cells() 函數：\n",
    "\n",
    "用法：**Cells(row值, column值)**\n",
    "\n",
    "今天當我想賦值給 A1 儲存格時：\n",
    "```vb\n",
    "Cells(1, 1).value = 123\n",
    "```\n",
    "問題是這樣的寫法非常不直覺，所以 VBA 也支援以下寫法：\n",
    "```vb\n",
    "Cells(1, \"A\").value = 123\n",
    "```\n",
    "\n",
    "\n",
    "### xlwings 套件的 cells() \n",
    "\n",
    "在語法上非常貼近 VBA 的 cells() :\n",
    "\n",
    "```python\n",
    "sheet.cells(1, 'A').value = 123\n",
    "\n",
    "```"
   ]
  },
  {
   "cell_type": "code",
   "execution_count": null,
   "metadata": {
    "id": "amN0mVYM-suk"
   },
   "outputs": [],
   "source": []
  },
  {
   "cell_type": "markdown",
   "metadata": {
    "id": "oTzbZ4wwGZpP"
   },
   "source": [
    "## 使用 cells() 的小叮嚀\n",
    "\n",
    "今天我若想擷取 B1 儲存格的值，可以這樣寫：\n",
    "```python\n",
    "tsmc_sheet.cells(1, \"B\").value\n",
    "```\n",
    "\n",
    "### cells(儲存格的row值，儲存格的column值)\n",
    "\n",
    "儲存格的column值可以用字串 'B' 或 數字 2 表示"
   ]
  },
  {
   "cell_type": "code",
   "execution_count": null,
   "metadata": {
    "id": "R1OMeadhGZpP"
   },
   "outputs": [],
   "source": [
    "sheet.cells(42, \"A\").value = 99"
   ]
  },
  {
   "cell_type": "markdown",
   "metadata": {
    "id": "SB0TxLUZGZpW"
   },
   "source": [
    "### 但是！\n",
    "\n",
    "**若你是用 Mac, xlwings 不支援用字串表示 column 值**\n",
    "\n",
    "這是 xlwings 在 Mac 上的極限，所以若你是用 Mac，上述程式碼需改寫成：\n",
    "\n",
    "```python\n",
    "sheet.cells(1, 2).value\n",
    "```\n",
    "\n",
    "***因此我的建議是，爲了確保程式碼可以跨平台，請盡量使用 range() 方法選擇儲存格**\n"
   ]
  },
  {
   "cell_type": "code",
   "execution_count": null,
   "metadata": {
    "id": "0e6krzxwGZpb"
   },
   "outputs": [],
   "source": []
  },
  {
   "cell_type": "markdown",
   "metadata": {
    "id": "CR2JlYQ5GZpe"
   },
   "source": [
    "# 隨堂練習：用 xlwings 計算日報酬率\n",
    "\n",
    "\n",
    "```python\n",
    "import xlwings as xw\n",
    "# 打開你的 stock_price_data.xlsx 檔案\n",
    "wb = xw.Book(r\"範例檔案 stock_price_data.xlsx 的路徑\")\n",
    "# 截取需要操作的工作表\n",
    "tsmc_sheet = wb.sheets[\"2330\"]\n",
    "```"
   ]
  },
  {
   "cell_type": "code",
   "execution_count": null,
   "metadata": {
    "id": "T6zXTmWyGZpe"
   },
   "outputs": [],
   "source": [
    "import xlwings as xw\n",
    "# 開啓名爲 stock_price_data.xlsx 的檔案\n",
    "wb = xw.Book(r\"stock_price_data.xlsx\")\n",
    "tsmc_sheet = wb.sheets[\"2330\"]\n",
    "tsmc_sheet"
   ]
  },
  {
   "cell_type": "code",
   "execution_count": null,
   "metadata": {
    "id": "UCINsLBMGZpl"
   },
   "outputs": [],
   "source": [
    "# 選擇第二天的資料\n",
    "today_price = tsmc_sheet.range(\"B3\").value "
   ]
  },
  {
   "cell_type": "code",
   "execution_count": null,
   "metadata": {
    "id": "UvTcfkLQGZpp"
   },
   "outputs": [],
   "source": [
    "# 選擇第一天的資料\n",
    "yesterday_price = tsmc_sheet.range(\"B2\").value\n",
    "yesterday_price"
   ]
  },
  {
   "cell_type": "code",
   "execution_count": null,
   "metadata": {
    "id": "TpTRik1WGZpu"
   },
   "outputs": [],
   "source": [
    "# 計算報酬率\n",
    "daily_return = (today_price - yesterday_price) / yesterday_price\n",
    "daily_return"
   ]
  },
  {
   "cell_type": "code",
   "execution_count": null,
   "metadata": {
    "id": "wO2KyQZpGZpw"
   },
   "outputs": [],
   "source": [
    "# 將資料填入 C 欄\n",
    "tsmc_sheet.range(\"C4\").value = daily_return"
   ]
  },
  {
   "cell_type": "markdown",
   "metadata": {
    "id": "Qy0sxGKbGZpy"
   },
   "source": [
    "# 練習：計算所有的報酬率\n",
    "\n",
    "請完成以下程式：\n",
    "\n",
    "```python\n",
    "# 算出所有的報酬率\n",
    "for i in range(3, ____):\n",
    "    today_price = tsmc_sheet.range(f\"B{_}\").value\n",
    "    yesterday_price = __________________________\n",
    "    daily_return = (today_price - ________________) / yesterday_price\n",
    "    tsmc_sheet.range(f\"C{_}\").value = ________________\n",
    "\n",
    "```"
   ]
  },
  {
   "cell_type": "code",
   "execution_count": null,
   "metadata": {
    "id": "hfTzpUYNGZpy"
   },
   "outputs": [],
   "source": []
  },
  {
   "cell_type": "markdown",
   "metadata": {
    "id": "YEzdiis6GZp4"
   },
   "source": [
    "# 相關資源：\n",
    "\n",
    "Medium: \n",
    "\n",
    "1. [當大蟒蛇語言遇上老牌試算表軟體](https://medium.com/pyradise/%E7%95%B6%E5%A4%A7%E8%9F%92%E8%9B%87%E8%AA%9E%E8%A8%80%E9%81%87%E4%B8%8A%E8%80%81%E7%89%8C%E8%A9%A6%E7%AE%97%E8%A1%A8%E8%BB%9F%E9%AB%94-fc7947792000)\n",
    "\n",
    "2. [讓 Python 為你的 Excel 添加翅膀](https://medium.com/pyradise/%E7%95%B6%E5%A4%A7%E8%9F%92%E8%9B%87%E8%AA%9E%E8%A8%80%E9%81%87%E4%B8%8A%E8%80%81%E7%89%8C%E8%A9%A6%E7%AE%97%E8%A1%A8%E8%BB%9F%E9%AB%94-2-2e1e825b31fe)\n",
    "\n",
    "xlwings 官網：\n",
    "\n",
    "[官網連結](https://www.xlwings.org/)"
   ]
  }
 ],
 "metadata": {
  "colab": {
   "collapsed_sections": [
    "k0vmc7qNGZns"
   ],
   "name": "Python x Excel 的整合術 (第一課).ipynb",
   "provenance": []
  },
  "kernelspec": {
   "display_name": "Python 3 (ipykernel)",
   "language": "python",
   "name": "python3"
  },
  "language_info": {
   "codemirror_mode": {
    "name": "ipython",
    "version": 3
   },
   "file_extension": ".py",
   "mimetype": "text/x-python",
   "name": "python",
   "nbconvert_exporter": "python",
   "pygments_lexer": "ipython3",
   "version": "3.11.5"
  }
 },
 "nbformat": 4,
 "nbformat_minor": 1
}
