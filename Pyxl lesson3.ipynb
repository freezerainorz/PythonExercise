{
 "cells": [
  {
   "cell_type": "markdown",
   "metadata": {
    "id": "ImlXIYmGnyRd"
   },
   "source": [
    "# 跨工作表運算\n",
    "\n",
    "我們在上一堂課利用 Python 與 Excel 這兩個工具打造出了一個回測系統，此工具允許我們能夠將回測流程自動化。但是，講到實用性，一般我們在投資股票時，不會只投資一支個股，而是多支股票，或者可以說由多個不同的個股組成的一個投資組合。\n",
    "\n",
    "現在假設我們很費力的將多個個股的歷史資料整理在不同的工作簿内，而我們希望上一課的回測系統能夠對所有的股票進行回測，接下來我們就來看要如何能夠透過程式化的方法來做到這件事。\n",
    "\n",
    "要如何能夠讓我們的回測系統程式能夠自行將所有股票的回測都執行完畢呢？這個時候我們就需要學會如何做跨工作表的運算，也就是如何透過程式操作多個工作表與工作簿的方法。\n"
   ]
  },
  {
   "cell_type": "markdown",
   "metadata": {
    "id": "MtcmUTWSnyRh"
   },
   "source": [
    "# xlwings 的工作表集合\n",
    "\n",
    "假設今天我們搜集了四個不同股票的歷史資料，這四個股票分別是臺積電、玉山、鴻海、台灣50，這四支股票的歷史股價分別被整理在不同的工作簿内：\n",
    "\n",
    "![](https://drive.google.com/uc?export=download&id=1qydsOfLS7GtNYD6rH-rCXJmOTGm-ltaF)\n",
    "\n",
    "而每一個工作簿内股票的歷史資料格式都相同：\n",
    "\n",
    "![](https://drive.google.com/uc?export=download&id=1rdyGuyW5N4UMYjzcufgcbeYQOpTFkXB2)\n"
   ]
  },
  {
   "cell_type": "code",
   "execution_count": null,
   "metadata": {
    "id": "V2zqxl08nyRj"
   },
   "outputs": [],
   "source": [
    "import xlwings as xw\n",
    "# 建立新的工作簿\n",
    "wb = xw.Book()"
   ]
  },
  {
   "cell_type": "markdown",
   "metadata": {
    "id": "ggUmhaR5nyRs"
   },
   "source": [
    "接下來我們可以透過以下程式碼來檢查新工作簿内的工作表："
   ]
  },
  {
   "cell_type": "code",
   "execution_count": null,
   "metadata": {
    "id": "unCOPyBHnyRt"
   },
   "outputs": [],
   "source": [
    "wb.sheets"
   ]
  },
  {
   "cell_type": "markdown",
   "metadata": {
    "id": "uOqQyjninyR2"
   },
   "source": [
    "這個新建立的工作表上只有一個名爲 `工作表1` 的工作表，今天我們若要選擇該工作表，可以透過以下兩種方式："
   ]
  },
  {
   "cell_type": "code",
   "execution_count": null,
   "metadata": {
    "id": "6zQre-SVnyR3"
   },
   "outputs": [],
   "source": [
    "wb.sheets[0]"
   ]
  },
  {
   "cell_type": "code",
   "execution_count": null,
   "metadata": {
    "id": "s4GZYqo9nyR6"
   },
   "outputs": [],
   "source": [
    "wb.sheets[\"工作表1\"]"
   ]
  },
  {
   "cell_type": "code",
   "execution_count": null,
   "metadata": {
    "id": "B7QR9GSqnyR9"
   },
   "outputs": [],
   "source": [
    "sheet = wb.sheets[\"工作表1\"]"
   ]
  },
  {
   "cell_type": "code",
   "execution_count": null,
   "metadata": {
    "id": "LNi0IxuwnySB"
   },
   "outputs": [],
   "source": [
    "print(sheet)"
   ]
  },
  {
   "cell_type": "markdown",
   "metadata": {
    "id": "oooupZQNnySG"
   },
   "source": [
    "# 新增工作表\n",
    "\n",
    "由於我們要匯整的資料很多，因此我們希望程式在讀取到一個新的個股資料時，能夠自動建立一個新的工作表，接下來再將資料寫入該工作表，我們可以透過以下程式碼新增一個工作表：\n",
    "\n",
    "![](https://drive.google.com/uc?export=download&id=1w-k_wNMEj57Ci4EUDrNt3rPX16y2tIJP)"
   ]
  },
  {
   "cell_type": "code",
   "execution_count": null,
   "metadata": {
    "id": "8nLVQObMnySH"
   },
   "outputs": [],
   "source": [
    "new_sheet = wb.sheets.add()"
   ]
  },
  {
   "cell_type": "code",
   "execution_count": null,
   "metadata": {
    "id": "8SkykzTAnySK"
   },
   "outputs": [],
   "source": [
    "print(new_sheet)"
   ]
  },
  {
   "cell_type": "code",
   "execution_count": null,
   "metadata": {
    "id": "ua3MPOXDnySN"
   },
   "outputs": [],
   "source": [
    "wb.sheets"
   ]
  },
  {
   "cell_type": "code",
   "execution_count": null,
   "metadata": {
    "id": "oc1PKhgwnySQ"
   },
   "outputs": [],
   "source": [
    "new_sheet = wb.sheets.add(name=\"2330\")\n",
    "print(new_sheet)"
   ]
  },
  {
   "cell_type": "markdown",
   "metadata": {
    "id": "L_mTUWzInySV"
   },
   "source": [
    "![](https://drive.google.com/uc?export=download&id=1r-TMlIjhY8A_UsZ3n5_9xDmmoz-F21ff)"
   ]
  },
  {
   "cell_type": "code",
   "execution_count": null,
   "metadata": {
    "id": "cBKLUuxxnySV"
   },
   "outputs": [],
   "source": [
    "# 開啓 2330 歷史股價工作簿\n",
    "wb_2330 = xw.Book(\"2330_history.xlsx\")\n",
    "# 建立新的工作表\n",
    "sheet_2330 = wb.sheets.add(name=\"2330\")\n",
    "# 將歷史股價資料寫入新的工作表\n",
    "sheet_2330.range(\"A1:H249\").value = wb_2330.sheets[\"2330_history\"].range(\"A1:H249\").value"
   ]
  },
  {
   "cell_type": "markdown",
   "metadata": {
    "id": "97XYy2tFnySY"
   },
   "source": [
    "# 動態偵測資料筆數"
   ]
  },
  {
   "cell_type": "code",
   "execution_count": null,
   "metadata": {
    "id": "cIo4zpNrnySZ"
   },
   "outputs": [],
   "source": [
    "# 請確認所有的 Excel 檔案和此 Notebook 檔案都是在同一個資料夾底下\n",
    "wb_2330 = xw.Book(\"2330_history.xlsx\")\n",
    "wb_2317 = xw.Book(\"2317_history.xlsx\")\n",
    "wb_2884 = xw.Book(\"2884_history.xlsx\")\n",
    "wb_0050 = xw.Book(\"0050_history.xlsx\")"
   ]
  },
  {
   "cell_type": "code",
   "execution_count": null,
   "metadata": {
    "id": "cbn3gY57nySc"
   },
   "outputs": [],
   "source": [
    "wb_2330.sheets[0]"
   ]
  },
  {
   "cell_type": "code",
   "execution_count": null,
   "metadata": {
    "id": "ACMCA-3nnySk"
   },
   "outputs": [],
   "source": [
    "sheet = wb_2330.sheets[\"2330_history\"]\n",
    "print(sheet)"
   ]
  },
  {
   "cell_type": "markdown",
   "metadata": {
    "id": "MSNIbAVbyEbK"
   },
   "source": [
    "在我們開始複製資料之前，我們先觀察一下所有的工作簿。\n",
    "\n",
    "如果讀者仔細的觀察一下工作表，就會發現，今天每一支股票的歷史資料筆數其實是不同的，舉例來説，我們的臺積電（2330）工作簿的資料一共有 249 筆資料，但是玉山銀行（2884）則只有 173 筆資料。"
   ]
  },
  {
   "cell_type": "markdown",
   "metadata": {
    "id": "RBofFWmlnySo"
   },
   "source": [
    "# range.end 偵測範圍"
   ]
  },
  {
   "cell_type": "markdown",
   "metadata": {
    "id": "rM0erVAUnySo"
   },
   "source": [
    "問題來了，要是試算表上**多了或少了一筆資料，原本的程式就爆炸了...**\n",
    "\n",
    "**若你寫出了一個需要頻繁修改的程式，那就失去了自動化的意義**\n",
    "\n",
    "我們需要一個能夠動態偵測我們有幾筆資料需要計算的方法\n",
    "\n",
    "在 VBA 的世界裡，有個好用的函數叫做 **End()**，可以動態偵測一從一個儲存格開始，**連續、有值範圍的最後一個儲存格**：\n",
    "\n",
    "\n",
    "|  **常數**       | **方向**          |\n",
    "| ------------- |:-----------:| \n",
    "| **End(xlDown)**    | ↓      | \n",
    "| **End(xlUp)**     | ↑      | \n",
    "| **End(xlRight)** | →      |\n",
    "| **End(xlRight)** | ←      |\n",
    "\n",
    "\n",
    "\n",
    "\n",
    "範例1：會從 A1 儲存格開始，**往下**查找到最後一個有值的儲存格\n",
    "```vb\n",
    "last_row = Range(\"A1\").End(xlDown).Row\n",
    "```\n",
    "\n",
    "範例2：會從 A1 儲存格開始，**往右**查找到最後一個有值的儲存格\n",
    "```vb\n",
    "last_col = Range(\"A1\").End(xlToRight).Column\n",
    "```\n",
    "\n",
    "幸運的是，`xlwings` 也具備了一模一樣的功能："
   ]
  },
  {
   "cell_type": "code",
   "execution_count": null,
   "metadata": {
    "id": "J0eqMVf4nySp"
   },
   "outputs": [],
   "source": [
    "from xlwings.constants import Direction\n",
    "# 從 A1 儲存格開始，往下查找到最後一個有值的儲存格\n",
    "sheet = wb_2330.sheets[\"2330_history\"]\n",
    "last_cell = sheet.range(\"A1\").end(Direction.xlDown)\n",
    "print(last_cell)"
   ]
  },
  {
   "cell_type": "code",
   "execution_count": null,
   "metadata": {
    "id": "ZoiW45OWnySs"
   },
   "outputs": [],
   "source": [
    "# 把從 A1 開始，最右下角的儲存格底色換成紅色\n",
    "last_cell.color = (255, 0, 0)"
   ]
  },
  {
   "cell_type": "code",
   "execution_count": null,
   "metadata": {
    "id": "9sOzwAEznySx"
   },
   "outputs": [],
   "source": [
    "from xlwings.constants import Direction\n",
    "# 從 A1 儲存格開始，往下查找到最後一個有值的儲存格\n",
    "last_cell = sheet.range(\"D4\").end(Direction.xlDown)\n",
    "print(last_cell)\n",
    "# 會找到 D249\n",
    "last_cell = sheet.range(\"D4\").end(Direction.xlUp)\n",
    "print(last_cell)\n",
    "# 會找到 D1\n",
    "last_cell = sheet.range(\"D4\").end(Direction.xlToLeft)\n",
    "print(last_cell)\n",
    "# 會找到 A4\n",
    "last_cell = sheet.range(\"D4\").end(Direction.xlToRight)\n",
    "print(last_cell)\n",
    "# 會找到 H4"
   ]
  },
  {
   "cell_type": "code",
   "execution_count": null,
   "metadata": {
    "id": "d-K5VaIInyS1"
   },
   "outputs": [],
   "source": [
    "# 另一種比較簡潔的寫法則是...\n",
    "last_cell = sheet.range(\"D4\").end(\"down\")\n",
    "print(last_cell)\n",
    "# 會找到 D249\n",
    "last_cell = sheet.range(\"D4\").end(\"up\")\n",
    "print(last_cell)\n",
    "# 會找到 D1\n",
    "last_cell = sheet.range(\"D4\").end(\"left\")\n",
    "print(last_cell)\n",
    "# 會找到 A4\n",
    "last_cell = sheet.range(\"D4\").end(\"right\")\n",
    "print(last_cell)\n",
    "# 會找到 H4"
   ]
  },
  {
   "cell_type": "markdown",
   "metadata": {
    "id": "OYf9K3sunyS4"
   },
   "source": [
    "![](https://drive.google.com/uc?export=download&id=185_o3ZLPFvN_CE_aTR-ih2_WMWfGVvTj)"
   ]
  },
  {
   "cell_type": "code",
   "execution_count": null,
   "metadata": {
    "id": "ezCx7fHLnyS4"
   },
   "outputs": [],
   "source": [
    "last_cell = sheet.range(\"A1\").end(\"down\")\n",
    "last_cell.row"
   ]
  },
  {
   "cell_type": "markdown",
   "metadata": {
    "id": "bFaaanZ1nyS7"
   },
   "source": [
    "![](https://drive.google.com/uc?export=download&id=16tOMtw6kqmufe2mCna4cw-ygOglXHsVS)"
   ]
  },
  {
   "cell_type": "code",
   "execution_count": null,
   "metadata": {
    "id": "23XmW_kAnyS7"
   },
   "outputs": [],
   "source": [
    "dates = sheet.range(f\"A1:A{last_cell.row}\").value\n",
    "prices = sheet.range(f\"E1:E{last_cell.row}\").value\n",
    "\n",
    "dates, prices"
   ]
  },
  {
   "cell_type": "code",
   "execution_count": null,
   "metadata": {
    "id": "gacgdgCXnyS_"
   },
   "outputs": [],
   "source": [
    "new_sheet.range(\"A1\").value = dates"
   ]
  },
  {
   "cell_type": "markdown",
   "metadata": {
    "id": "OzpnZlI5nyTB"
   },
   "source": [
    "結果有些出乎我們意料：\n",
    "\n",
    "![](https://drive.google.com/uc?export=download&id=1_89rfTmQWmTaGY5-RM2F30LDRPEM6TSc)\n",
    "\n",
    "原因在於當我們把 `A1:A249` 這個範圍讀取出來時，由於該範圍的大小是 **249 x 1**，因此 xlwings 在預設上是將其變成一個一維陣列，大小是 **1 x 249**，因此造成了上述現象。\n",
    "\n",
    "要修正這個問題，我們可以使用 range 方法的 options 屬性，將關鍵字引數 `ndim` 設定成 `2`："
   ]
  },
  {
   "cell_type": "code",
   "execution_count": null,
   "metadata": {
    "id": "G32TeDqHnyTC"
   },
   "outputs": [],
   "source": [
    "dates = sheet.range(f\"A1:A{last_cell.row}\").options(ndim=2).value\n",
    "dates"
   ]
  },
  {
   "cell_type": "code",
   "execution_count": null,
   "metadata": {
    "id": "xYSbb_vwnyTI"
   },
   "outputs": [],
   "source": [
    "prices = sheet.range(f\"E1:E{last_cell.row}\").options(ndim=2).value\n",
    "prices"
   ]
  },
  {
   "cell_type": "markdown",
   "metadata": {
    "id": "uotxKAponyTM"
   },
   "source": [
    "最後再寫入新工作表的 A 欄與 B 欄："
   ]
  },
  {
   "cell_type": "code",
   "execution_count": null,
   "metadata": {
    "id": "7FHHiqZZnyTM"
   },
   "outputs": [],
   "source": [
    "new_sheet.range(\"A1\").value = dates\n",
    "new_sheet.range(\"B1\").value = prices"
   ]
  },
  {
   "cell_type": "markdown",
   "metadata": {
    "id": "casZSV59nyTR"
   },
   "source": [
    "結果：\n",
    "\n",
    "![](https://drive.google.com/uc?export=download&id=1mvn8RlvtQE5vNpGnaDhyTdHy630eHkQK)\n",
    "\n",
    "\n",
    "\n",
    "接下來我們設定好新工作表的表頭：\n",
    "\n",
    "![](https://drive.google.com/uc?export=download&id=1moAiqTKEeltT7wv1CtxMVDdLv0ie1t5j)"
   ]
  },
  {
   "cell_type": "code",
   "execution_count": null,
   "metadata": {
    "id": "aM0Zlx8_nyTR"
   },
   "outputs": [],
   "source": [
    "headers = [\"日期\", \"收盤價\", \"三日移動平均\", \"買入股數\", \"賣出股數\", \"持有股數\",\"持有現金\", \"總資產\", \"起始資金\"]\n",
    "new_sheet.range(\"A1\").value = headers"
   ]
  },
  {
   "cell_type": "markdown",
   "metadata": {
    "id": "pzQKhpETnyTa"
   },
   "source": [
    "我們還需要設定 I 欄的格式：\n",
    "\n",
    "![](https://drive.google.com/uc?export=download&id=1CzzZbe-V8-eKblvtdRm7lT55TAgHJxas)"
   ]
  },
  {
   "cell_type": "code",
   "execution_count": null,
   "metadata": {
    "id": "2p_7sq0unyTb"
   },
   "outputs": [],
   "source": [
    "new_sheet.range(\"I2\").value = \"交易股數\"\n",
    "new_sheet.range(\"I3\").value = \"總收益\""
   ]
  },
  {
   "cell_type": "markdown",
   "metadata": {
    "id": "V5EaWXCunyTd"
   },
   "source": [
    "# 將多個工作簿的資料匯整到同一個檔案\n",
    "\n",
    "![](https://drive.google.com/uc?export=download&id=1U8upbX73cWcbQV1CGb-uqZReInqb0lt5)\n"
   ]
  },
  {
   "cell_type": "code",
   "execution_count": null,
   "metadata": {
    "id": "uDDZKUVTnyTe"
   },
   "outputs": [],
   "source": [
    "stocks = [\"2330\", \"2884\", \"2317\", \"0050\"]\n",
    "headers = [\"日期\", \"收盤價\", \"三日移動平均\", \"買入股數\", \"賣出股數\", \"持有股數\",\"持有現金\", \"總資產\", \"起始資金\"]\n",
    "\n",
    "new_wb = xw.Book()\n",
    "\n",
    "for stock in stocks:\n",
    "    wb = xw.Book(f\"{stock}_history.xlsx\")\n",
    "    sheet = wb.sheets[0]\n",
    "    last_row = sheet.range(\"A1\").end(\"down\").row\n",
    "    new_sheet = new_wb.sheets.add(name=stock)\n",
    "    new_sheet.range(\"A1\").value = sheet.range(f\"A1:A{last_row}\").options(ndim=2).value\n",
    "    new_sheet.range(\"B1\").value = sheet.range(f\"E1:E{last_row}\").options(ndim=2).value\n",
    "    new_sheet.range(\"A1\").value = headers\n",
    "    new_sheet.range(\"I2\").value = \"交易股數\"\n",
    "    new_sheet.range(\"I3\").value = \"總收益\"\n",
    "\n",
    "new_wb.save(\"投資組合歷史資料.xlsx\")"
   ]
  },
  {
   "cell_type": "markdown",
   "metadata": {
    "id": "hCHLkaVKnyTg"
   },
   "source": [
    "# 投資組合回測\n",
    "\n",
    "請確保：\n",
    "\n",
    "1. 每一個個股工作表都有設定**起始資金**以及**交易股數**\n",
    "2. 將**工作表1**刪除\n",
    "\n",
    "![](https://drive.google.com/uc?export=download&id=1ctplmK_np_R6hfLPNcerpc8m8X0gBeXl)"
   ]
  },
  {
   "cell_type": "code",
   "execution_count": null,
   "metadata": {
    "id": "ManaN_VNnyTh"
   },
   "outputs": [],
   "source": [
    "import xlwings as xw\n",
    "\n",
    "wb = xw.Book(r\"在這裏輸入你放置 投資組合歷史資料.xlsx 檔案在你的電腦的路徑，包含副檔名 .xlsx\")\n",
    "sheet = wb.sheets[\"2330\"]"
   ]
  },
  {
   "cell_type": "markdown",
   "metadata": {
    "id": "EhfhTKuQsS4A"
   },
   "source": [
    "## 計算三日移動平均"
   ]
  },
  {
   "cell_type": "code",
   "execution_count": null,
   "metadata": {
    "id": "WzwOTPwinyTm"
   },
   "outputs": [],
   "source": [
    "last_row = sheet.range(\"A1\").end(\"down\").row\n",
    "\n",
    "for i in range(4, last_row+1):\n",
    "    formula = f\"=Average(B{i-2}:B{i})\"\n",
    "    sheet.range(f\"C{i}\").formula = formula"
   ]
  },
  {
   "cell_type": "code",
   "execution_count": null,
   "metadata": {
    "id": "RS-QU8JgnyTp"
   },
   "outputs": [],
   "source": [
    "def calculate_sma_3d(sheet):\n",
    "    last_row = sheet.range(\"A1\").end(\"down\").row\n",
    "\n",
    "    for i in range(4, last_row+1):\n",
    "        formula = f\"=Average(B{i-2}:B{i})\"\n",
    "        sheet.range(f\"C{i}\").formula = formula"
   ]
  },
  {
   "cell_type": "markdown",
   "metadata": {
    "id": "4_JQHovPsYk1"
   },
   "source": [
    "## 計算第一天的交易資料"
   ]
  },
  {
   "cell_type": "code",
   "execution_count": null,
   "metadata": {
    "id": "JsDRhx_knyTr"
   },
   "outputs": [],
   "source": [
    "# 截取當天收盤價\n",
    "price = sheet.range(f\"B4\").value\n",
    "# 截取當天的 3日移動平均\n",
    "sma3d = sheet.range(f\"C4\").value\n",
    "# 從 J2 截取我們的交易股數，也就是 1000\n",
    "shares = sheet.range(\"J2\").value\n",
    "# 手動設定第四行，也就是第一天的資料\n",
    "if price > sma3d:\n",
    "    sheet.range(f\"D4\").value = shares\n",
    "else:\n",
    "    # 若上述條件不符和，就買入 0 股，（在 E 欄顯示 0）\n",
    "    sheet.range(f\"D4\").value = 0\n",
    "# 若 3日 > ，而且昨天的持有股數大於 1000 股，就賣出 1000 股\n",
    "if price < sma3d:\n",
    "    sheet.range(f\"E4\").value = shares\n",
    "else:\n",
    "    sheet.range(f\"E4\").value = 0\n",
    "\n",
    "sheet.range(\"F4\").value = sheet.range(\"D4\").value - sheet.range(\"E4\").value\n",
    "sheet.range(\"G4\").value = sheet.range(\"J1\").value - sheet.range(\"F4\").value * sheet.range(\"B4\").value\n",
    "sheet.range(\"H4\").value = sheet.range(\"G4\").value + sheet.range(\"F4\").value * sheet.range(\"B4\").value"
   ]
  },
  {
   "cell_type": "code",
   "execution_count": null,
   "metadata": {
    "id": "KAMslBY1nyTu"
   },
   "outputs": [],
   "source": [
    "def calculate_first_day(sheet):\n",
    "    # 截取當天收盤價\n",
    "    price = sheet.range(f\"B4\").value\n",
    "    # 截取當天的 3日移動平均\n",
    "    sma3d = sheet.range(f\"C4\").value\n",
    "    # 從 J2 截取我們的交易股數，也就是 1000\n",
    "    shares = sheet.range(\"J2\").value\n",
    "    # 手動設定第四行，也就是第一天的資料\n",
    "    if price > sma3d:\n",
    "        sheet.range(f\"D4\").value = shares\n",
    "    else:\n",
    "        # 若上述條件不符和，就買入 0 股，（在 E 欄顯示 0）\n",
    "        sheet.range(f\"D4\").value = 0\n",
    "    # 若 3日 > ，而且昨天的持有股數大於 1000 股，就賣出 1000 股\n",
    "    if price < sma3d:\n",
    "        sheet.range(f\"E4\").value = shares\n",
    "    else:\n",
    "        sheet.range(f\"E4\").value = 0\n",
    "\n",
    "    sheet.range(\"F4\").value = sheet.range(\"D4\").value - sheet.range(\"E4\").value\n",
    "    sheet.range(\"G4\").value = sheet.range(\"J1\").value - sheet.range(\"F4\").value * sheet.range(\"B4\").value\n",
    "    sheet.range(\"H4\").value = sheet.range(\"G4\").value + sheet.range(\"F4\").value * sheet.range(\"B4\").value"
   ]
  },
  {
   "cell_type": "markdown",
   "metadata": {
    "id": "huS4dQQpseXx"
   },
   "source": [
    "## 執行回測"
   ]
  },
  {
   "cell_type": "code",
   "execution_count": null,
   "metadata": {
    "id": "EcSyIUAgnyTw"
   },
   "outputs": [],
   "source": [
    "sheet.range(\"J1\").name = \"起始資金\"\n",
    "sheet.range(\"J2\").name = \"交易股數\"\n",
    "\n",
    "# 從 J2 截取我們的交易股數，也就是 1000\n",
    "shares = sheet.range(\"J2\").value\n",
    "# 實作交易策略\n",
    "for i in range(5, last_row+1):\n",
    "    # D 欄公式\n",
    "    sheet.range(f\"D{i}\").formula = f\"=IF(AND(B{i}>C{i}, B{i}*交易股數<=G{i-1}), {shares}, 0)\"\n",
    "    # E 欄公式\n",
    "    sheet.range(f\"E{i}\").formula = f\"=IF(AND(B{i}<C{i}, F{i-1}>=交易股數), {shares}, 0)\"\n",
    "    # 持有股數，算法是前一天的持有股數 + 今天的買入股數 - 今天的賣出股數\n",
    "    sheet.range(f\"F{i}\").formula = f\"=D{i}-E{i}+F{i-1}\"\n",
    "    # 持有資金，算法是前一天的持有資金 + 今日收盤價 x (今天的賣出股數 - 今天的買入股數)\n",
    "    sheet.range(f\"G{i}\").formula = f\"=(E{i}-D{i})*B{i}+G{i-1}\"\n",
    "    # 總資產則是持有股數 x 今日收盤價 + 今日持有資金\n",
    "    sheet.range(f\"H{i}\").formula = f\"=F{i}*B{i}+G{i}\"\n",
    "\n",
    "# 計算并且將總收益顯示在 J3\n",
    "sheet.range(\"J3\").value = sheet.range(f\"H{last_row}\").value - sheet.range(f\"J1\").value"
   ]
  },
  {
   "cell_type": "code",
   "execution_count": null,
   "metadata": {
    "id": "u7299TOOnyTz"
   },
   "outputs": [],
   "source": [
    "def sma_back_test(sheet):\n",
    "    sheet.range(\"J1\").name = \"起始資金\"\n",
    "    sheet.range(\"J2\").name = \"交易股數\"\n",
    "    # 從 J2 截取我們的交易股數，也就是 1000\n",
    "    shares = sheet.range(\"J2\").value\n",
    "    last_row = sheet.range(\"A1\").end(\"down\").row\n",
    "    # 實作交易策略\n",
    "    for i in range(5, last_row+1):\n",
    "        # D 欄公式\n",
    "        sheet.range(f\"D{i}\").formula = f\"=IF(AND(B{i}>C{i}, B{i}*交易股數<=G{i-1}), {shares}, 0)\"\n",
    "        # E 欄公式\n",
    "        sheet.range(f\"E{i}\").formula = f\"=IF(AND(B{i}<C{i}, F{i-1}>=交易股數), {shares}, 0)\"\n",
    "        # 持有股數，算法是前一天的持有股數 + 今天的買入股數 - 今天的賣出股數\n",
    "        sheet.range(f\"F{i}\").formula = f\"=D{i}-E{i}+F{i-1}\"\n",
    "        # 持有資金，算法是前一天的持有資金 + 今日收盤價 x (今天的賣出股數 - 今天的買入股數)\n",
    "        sheet.range(f\"G{i}\").formula = f\"=(E{i}-D{i})*B{i}+G{i-1}\"\n",
    "        # 總資產則是持有股數 x 今日收盤價 + 今日持有資金\n",
    "        sheet.range(f\"H{i}\").formula = f\"=F{i}*B{i}+G{i}\"\n",
    "\n",
    "    # 計算并且將總收益顯示在 J3\n",
    "    sheet.range(\"J3\").value = sheet.range(f\"H{last_row}\").value - sheet.range(f\"J1\").value"
   ]
  },
  {
   "cell_type": "code",
   "execution_count": null,
   "metadata": {
    "id": "LpGgM6lgnyT2"
   },
   "outputs": [],
   "source": [
    "# 迭代每一個工作表\n",
    "for sheet in wb.sheets:\n",
    "    # 開啓工作表\n",
    "    sheet.activate()\n",
    "    # 計算三日移動平均\n",
    "    calculate_sma_3d(sheet)\n",
    "    # 計算第一天的報酬率\n",
    "    calculate_first_day(sheet)\n",
    "    # 執行回測\n",
    "    sma_back_test(sheet)"
   ]
  },
  {
   "cell_type": "markdown",
   "metadata": {
    "id": "1QmEXbBDnyT5"
   },
   "source": [
    "# 呈現回測結果\n",
    "\n",
    "在成功把所有股票的回測都跑完之後，剩下的事就是實際檢驗到底我們的投資策略賺了多少錢，雖然現在我們的程式在跑完後，就會把該試算表的總收益寫入 K15 儲存格，但是要把每一個試算表上的總收益加起來，還是很麻煩，那還不如就直接透過程式自動把所有的總收益加起來，算出整個投資組合的總收益。\n",
    "\n",
    "![](https://drive.google.com/uc?export=download&id=13ZLtwB8BvImq_70X_pol3tkQR0_aXT9L)"
   ]
  },
  {
   "cell_type": "code",
   "execution_count": null,
   "metadata": {
    "id": "X5_nT6FDnyT6"
   },
   "outputs": [],
   "source": [
    "profit = 0\n",
    "\n",
    "for sheet in wb.sheets:\n",
    "    if sheet.name != \"投資組合報表\":\n",
    "        # 開啓工作表\n",
    "        sheet.activate()\n",
    "        # 計算三日移動平均\n",
    "        calculate_sma_3d(sheet)\n",
    "        # 計算第一天的報酬率\n",
    "        calculate_first_day(sheet)\n",
    "        # 執行回測\n",
    "        sma_back_test(sheet)\n",
    "        # 執行完回測，讀取該個股總收益\n",
    "        profit += sheet.range(\"J3\").value\n",
    "\n",
    "# 顯示加總後、也就是投資組合的收益\n",
    "print(f\"投資組合收益： ${profit}\")"
   ]
  },
  {
   "cell_type": "code",
   "execution_count": null,
   "metadata": {
    "id": "nIQZsnjLnyT9"
   },
   "outputs": [],
   "source": [
    "sheet.activate()\n",
    "\n",
    "import time\n",
    "\n",
    "for sheet in wb.sheets:\n",
    "    sheet.activate()\n",
    "    time.sleep(2)"
   ]
  },
  {
   "cell_type": "markdown",
   "metadata": {
    "id": "nvqskDX6nyUA"
   },
   "source": [
    "當然，光是用 print 函數將我們的投資組合收益呈現在 Jupyter Notebook 上很不直覺，因此我們可以將結果呈現在工作表上，接下來我們可以建立一個新的工作表："
   ]
  },
  {
   "cell_type": "code",
   "execution_count": null,
   "metadata": {
    "id": "vfr8qqzenyUD"
   },
   "outputs": [],
   "source": [
    "portfolio = wb.sheets.add(name=\"投資組合報表\")\n",
    "portfolio.range(\"A1\").value = \"個股名稱\"\n",
    "portfolio.range(\"B1\").value = \"個股收益金額（$）\"\n",
    "portfolio.range(\"C1\").value = \"個股收益（%）\"\n",
    "portfolio.range(\"A11\").value = \"總收益金額（$）\"\n",
    "portfolio.range(\"C11\").value = \"總收益率（%）\""
   ]
  },
  {
   "cell_type": "markdown",
   "metadata": {
    "id": "HoeQONX5nyUJ"
   },
   "source": [
    "![](https://drive.google.com/uc?export=download&id=16ncM0bKpQLygNvte5XPwLsnb-1Z7H_5z)"
   ]
  },
  {
   "cell_type": "code",
   "execution_count": null,
   "metadata": {
    "id": "RKeX2vlWnyUJ"
   },
   "outputs": [],
   "source": [
    "# 收益\n",
    "profit = 0\n",
    "# 成本\n",
    "cost = 0\n",
    "# 起始 row 值\n",
    "row = 2\n",
    "\n",
    "portfolio = wb.sheets[\"投資組合報表\"]\n",
    "\n",
    "for sheet in wb.sheets:\n",
    "    # 判斷目前迭代到的工作表是否為投資組合報告\n",
    "    if sheet.name == \"投資組合報表\":\n",
    "        # 若是，就不執行回測\n",
    "        continue\n",
    "    sheet.activate()\n",
    "    calculate_sma_3d(sheet)\n",
    "    calculate_first_day(sheet)\n",
    "    sma_back_test(sheet)\n",
    "    # 將目前工作表名稱寫入投資組合報告 A 欄\n",
    "    portfolio.range(f\"A{row}\").value = sheet.name\n",
    "    # 將目前工作表的收益金額寫入投資組合報告 B 欄\n",
    "    portfolio.range(f\"B{row}\").value = sheet.range(\"J3\").value\n",
    "    # 將目前工作表的收益比例寫入投資組合報告 B 欄\n",
    "    portfolio.range(f\"C{row}\").value = sheet.range(\"J3\").value / sheet.range(\"J1\").value\n",
    "    # 更新 row 值\n",
    "    row += 1\n",
    "    # 叠加總成本金額\n",
    "    cost += sheet.range(\"J1\").value\n",
    "    # 叠加總收益金額\n",
    "    profit += sheet.range(\"J3\").value\n",
    "\n",
    "portfolio.range(\"B11\").value = profit\n",
    "portfolio.range(\"D11\").value = profit / cost"
   ]
  },
  {
   "cell_type": "markdown",
   "metadata": {
    "id": "H6vfXXqonyUM"
   },
   "source": [
    "最後稍微調整一下報告工作表的格式，就大功告成了！\n",
    "\n",
    "![](https://drive.google.com/uc?export=download&id=13ZLtwB8BvImq_70X_pol3tkQR0_aXT9L)"
   ]
  },
  {
   "cell_type": "markdown",
   "metadata": {
    "id": "tHMvb5lnn673"
   },
   "source": [
    "# 功課\n",
    "\n",
    "請嘗試用 Python 寫一個程式：\n",
    "\n",
    "1. 將**投資組合歷史資料.xlsx** 檔案内不同個股的資料分別存入四個不同的 Excel 工作簿内\n",
    "2. 格式與這節課一開始的四個歷史資料 Excel 工作簿一樣\n",
    "\n",
    "\n",
    "![](https://drive.google.com/uc?export=download&id=1qydsOfLS7GtNYD6rH-rCXJmOTGm-ltaF)\n"
   ]
  },
  {
   "cell_type": "code",
   "execution_count": null,
   "metadata": {
    "id": "0qrz23gxpNW1"
   },
   "outputs": [],
   "source": []
  }
 ],
 "metadata": {
  "colab": {
   "collapsed_sections": [],
   "name": "Python x Excel 的整合術 (第三課).ipynb",
   "provenance": []
  },
  "kernelspec": {
   "display_name": "Python 3 (ipykernel)",
   "language": "python",
   "name": "python3"
  },
  "language_info": {
   "codemirror_mode": {
    "name": "ipython",
    "version": 3
   },
   "file_extension": ".py",
   "mimetype": "text/x-python",
   "name": "python",
   "nbconvert_exporter": "python",
   "pygments_lexer": "ipython3",
   "version": "3.11.5"
  }
 },
 "nbformat": 4,
 "nbformat_minor": 1
}
